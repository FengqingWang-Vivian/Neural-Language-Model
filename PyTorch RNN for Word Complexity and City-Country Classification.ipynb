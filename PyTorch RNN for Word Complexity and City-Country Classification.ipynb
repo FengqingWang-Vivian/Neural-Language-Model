{
  "cells": [
    {
      "cell_type": "markdown",
      "metadata": {
        "id": "mOSjvZ8CcEtj"
      },
      "source": [
        "## Setup: Dataset / Packages\n",
        "- **Run the following cells without changing anything!**"
      ]
    },
    {
      "cell_type": "code",
      "execution_count": null,
      "metadata": {
        "id": "2XZ7ps9kfZxI"
      },
      "outputs": [],
      "source": [
        "#Import Packages\n",
        "from os.path import exists\n",
        "from sklearn.metrics import accuracy_score\n",
        "import codecs\n",
        "import math\n",
        "import random\n",
        "import string\n",
        "import time\n",
        "import numpy as np\n",
        "import torch.nn as nn\n",
        "import torch\n",
        "import torch.nn.functional as F\n",
        "import matplotlib.pyplot as plt\n",
        "import matplotlib.ticker as ticker\n",
        "%matplotlib inline"
      ]
    },
    {
      "cell_type": "code",
      "execution_count": null,
      "metadata": {
        "colab": {
          "base_uri": "https://localhost:8080/"
        },
        "id": "4S-GJitVcGpP",
        "outputId": "7327529d-25c2-4481-d57b-3d59a280e8f3"
      },
      "outputs": [
        {
          "output_type": "stream",
          "name": "stdout",
          "text": [
            "Downloading...\n",
            "From: https://drive.google.com/uc?id=1gnDQ6sqtLAGZx0qcjj4f4kdz76-m2WvK\n",
            "To: /content/complex_words_development.txt\n",
            "100% 198k/198k [00:00<00:00, 124MB/s]\n",
            "Downloading...\n",
            "From: https://drive.google.com/uc?id=1MptWweHF0JCNORroZUbqnEgboGO9vUG7\n",
            "To: /content/complex_words_test_unlabeled.txt\n",
            "100% 181k/181k [00:00<00:00, 130MB/s]\n",
            "Downloading...\n",
            "From: https://drive.google.com/uc?id=1hXANRbz9ov_w6nPYZK6r5IHj0I-l-Dlo\n",
            "To: /content/complex_words_training.txt\n",
            "100% 798k/798k [00:00<00:00, 103MB/s]\n",
            "Downloading...\n",
            "From: https://drive.google.com/uc?id=1ppyM-7kFyabNG8zOudsTuhWl-2j-zy5Z\n",
            "To: /content/complex_words_test_mini.txt\n",
            "100% 396/396 [00:00<00:00, 1.59MB/s]\n",
            "Downloading...\n",
            "From: https://drive.google.com/uc?id=1kKfh2oaxinBPVwWaux6FA9TerqAH5nHw\n",
            "To: /content/shakespeare_input.txt\n",
            "100% 4.57M/4.57M [00:00<00:00, 61.5MB/s]\n",
            "--2023-10-24 14:31:27--  http://computational-linguistics-class.org/homework/nn-lms/cities_test.txt\n",
            "Resolving computational-linguistics-class.org (computational-linguistics-class.org)... 185.199.110.153\n",
            "Connecting to computational-linguistics-class.org (computational-linguistics-class.org)|185.199.110.153|:80... connected.\n",
            "HTTP request sent, awaiting response... 200 OK\n",
            "Length: 10973 (11K) [text/plain]\n",
            "Saving to: ‘cities_test.txt’\n",
            "\n",
            "cities_test.txt     100%[===================>]  10.72K  --.-KB/s    in 0s      \n",
            "\n",
            "2023-10-24 14:31:27 (98.9 MB/s) - ‘cities_test.txt’ saved [10973/10973]\n",
            "\n",
            "--2023-10-24 14:31:27--  http://computational-linguistics-class.org/homework/nn-lms/cities_val.zip\n",
            "Resolving computational-linguistics-class.org (computational-linguistics-class.org)... 185.199.110.153\n",
            "Connecting to computational-linguistics-class.org (computational-linguistics-class.org)|185.199.110.153|:80... connected.\n",
            "HTTP request sent, awaiting response... 200 OK\n",
            "Length: 7558 (7.4K) [application/zip]\n",
            "Saving to: ‘cities_val.zip’\n",
            "\n",
            "cities_val.zip      100%[===================>]   7.38K  --.-KB/s    in 0s      \n",
            "\n",
            "2023-10-24 14:31:28 (744 MB/s) - ‘cities_val.zip’ saved [7558/7558]\n",
            "\n",
            "--2023-10-24 14:31:28--  http://computational-linguistics-class.org/homework/nn-lms/cities_train.zip\n",
            "Resolving computational-linguistics-class.org (computational-linguistics-class.org)... 185.199.110.153\n",
            "Connecting to computational-linguistics-class.org (computational-linguistics-class.org)|185.199.110.153|:80... connected.\n",
            "HTTP request sent, awaiting response... 200 OK\n",
            "Length: 159676 (156K) [application/zip]\n",
            "Saving to: ‘cities_train.zip’\n",
            "\n",
            "cities_train.zip    100%[===================>] 155.93K  --.-KB/s    in 0.003s  \n",
            "\n",
            "2023-10-24 14:31:28 (48.3 MB/s) - ‘cities_train.zip’ saved [159676/159676]\n",
            "\n",
            "Reading package lists... Done\n",
            "Building dependency tree... Done\n",
            "Reading state information... Done\n",
            "unzip is already the newest version (6.0-26ubuntu3.1).\n",
            "0 upgraded, 0 newly installed, 0 to remove and 18 not upgraded.\n",
            "Archive:  cities_val.zip\n",
            "   creating: val/\n",
            "  inflating: val/af.txt              \n",
            "  inflating: val/cn.txt              \n",
            "  inflating: val/de.txt              \n",
            "  inflating: val/fi.txt              \n",
            "  inflating: val/fr.txt              \n",
            "  inflating: val/ir.txt              \n",
            "  inflating: val/za.txt              \n",
            "  inflating: val/pk.txt              \n",
            "  inflating: val/in.txt              \n",
            "Archive:  cities_train.zip\n",
            "   creating: train/\n",
            "  inflating: train/af.txt            \n",
            "  inflating: train/de.txt            \n",
            "  inflating: train/fi.txt            \n",
            "  inflating: train/fr.txt            \n",
            "  inflating: train/in.txt            \n",
            "  inflating: train/ir.txt            \n",
            "  inflating: train/cn.txt            \n",
            "  inflating: train/za.txt            \n",
            "  inflating: train/pk.txt            \n"
          ]
        }
      ],
      "source": [
        "#Download and unzip files\n",
        "!gdown 1gnDQ6sqtLAGZx0qcjj4f4kdz76-m2WvK # https://drive.google.com/file/d/1gnDQ6sqtLAGZx0qcjj4f4kdz76-m2WvK/view?usp=sharing\n",
        "!gdown 1MptWweHF0JCNORroZUbqnEgboGO9vUG7 # https://drive.google.com/file/d/1MptWweHF0JCNORroZUbqnEgboGO9vUG7/view?usp=sharing\n",
        "!gdown 1hXANRbz9ov_w6nPYZK6r5IHj0I-l-Dlo # https://drive.google.com/file/d/1hXANRbz9ov_w6nPYZK6r5IHj0I-l-Dlo/view?usp=sharing\n",
        "!gdown 1ppyM-7kFyabNG8zOudsTuhWl-2j-zy5Z # https://drive.google.com/file/d/1ppyM-7kFyabNG8zOudsTuhWl-2j-zy5Z/view?usp=sharing\n",
        "!gdown 1kKfh2oaxinBPVwWaux6FA9TerqAH5nHw # https://drive.google.com/file/d/1kKfh2oaxinBPVwWaux6FA9TerqAH5nHw/view?usp=sharing\n",
        "!wget http://computational-linguistics-class.org/homework/nn-lms/cities_test.txt\n",
        "!wget http://computational-linguistics-class.org/homework/nn-lms/cities_val.zip\n",
        "!wget http://computational-linguistics-class.org/homework/nn-lms/cities_train.zip\n",
        "!sudo apt-get install unzip\n",
        "!unzip cities_val.zip\n",
        "!unzip cities_train.zip"
      ]
    },
    {
      "cell_type": "code",
      "execution_count": null,
      "metadata": {
        "id": "i4HWPnBLrZc8"
      },
      "outputs": [],
      "source": [
        "## Loads in the words and labels of one of the datasets\n",
        "def load_labeled_file(data_file):\n",
        "    words = []\n",
        "    labels = []\n",
        "    with open(data_file, 'rt', encoding=\"utf8\") as f:\n",
        "        i = 0\n",
        "        for line in f:\n",
        "            if i > 0:\n",
        "                line_split = line[:-1].split(\"\\t\")\n",
        "                words.append(line_split[0].lower())\n",
        "                labels.append(int(line_split[1]))\n",
        "            i += 1\n",
        "    X = np.array(words)\n",
        "    y = np.array(labels)\n",
        "    return X, y\n",
        "\n",
        "def getWords(baseDir, lang, train = True):\n",
        "    suff = \"train/\" if train else \"val/\"\n",
        "    arr = []\n",
        "    with codecs.open(baseDir+suff+lang+\".txt\", \"r\",encoding='utf-8', errors='ignore') as fp:\n",
        "        for line in fp:\n",
        "            arr.append(line.rstrip(\"\\n\"))\n",
        "    return np.array(arr)\n",
        "\n",
        "def readData(baseDir, train=True):\n",
        "    X, y = np.array([]), np.array([])\n",
        "    for lang in languages:\n",
        "        tempX = getWords(baseDir, lang, train)\n",
        "        X = np.append(X, tempX)\n",
        "        y = np.append(y, np.array([lang]*tempX.shape[0]))\n",
        "    return X, y"
      ]
    },
    {
      "cell_type": "code",
      "execution_count": null,
      "metadata": {
        "id": "JFbSo2hZehCJ"
      },
      "outputs": [],
      "source": [
        "# Use cuda to run in GPU to accelarate the process\n",
        "device =  torch.device(\"cuda:0\" if torch.cuda.is_available() else \"cpu\")\n",
        "assert str(device) == \"cuda:0\""
      ]
    },
    {
      "cell_type": "markdown",
      "metadata": {
        "id": "_W1LsPuKorQt"
      },
      "source": [
        "# Section 1: Classify simple and hard words"
      ]
    },
    {
      "cell_type": "markdown",
      "metadata": {
        "id": "gPI7pESlt9_z"
      },
      "source": [
        "Use RNN to distinguish between words that are simple and words that are complex."
      ]
    },
    {
      "cell_type": "markdown",
      "metadata": {
        "id": "1ViutxgjGevo"
      },
      "source": [
        "### **Dataset description**"
      ]
    },
    {
      "cell_type": "markdown",
      "metadata": {
        "id": "cuCz4cY-GkLr"
      },
      "source": [
        "The dataset contains english words with a label 0: easy, and 1: hard."
      ]
    },
    {
      "cell_type": "code",
      "execution_count": null,
      "metadata": {
        "colab": {
          "base_uri": "https://localhost:8080/"
        },
        "id": "PmcIGSrXTtj0",
        "outputId": "0cc60e59-d8cb-486c-a2cb-bf4729b90554"
      },
      "outputs": [
        {
          "output_type": "stream",
          "name": "stdout",
          "text": [
            "['string' 'derailed' 'asylum-seekers' 'shaping' 'worked']\n",
            "[0 1 0 0 0]\n"
          ]
        }
      ],
      "source": [
        "word_train_data = load_labeled_file(\"complex_words_training.txt\")\n",
        "word_val_data = load_labeled_file(\"complex_words_development.txt\")\n",
        "\n",
        "X_word, y_word = word_train_data\n",
        "print(X_word[:5])\n",
        "print(y_word[:5])"
      ]
    },
    {
      "cell_type": "markdown",
      "metadata": {
        "id": "XvT67MXO27On"
      },
      "source": [
        "Define 'all_letters' and 'group'.  \n",
        "**'all_letters'** is a long string that contains all character.  \n",
        "**'n_letters'** is the length of 'all_letters', also the input dimention of PyTorch model.  \n",
        "**'groups'** is a list that has all possible y values (labels) a dataset can have. 0 and 1. Named as 'complexity'.  "
      ]
    },
    {
      "cell_type": "code",
      "execution_count": null,
      "metadata": {
        "colab": {
          "base_uri": "https://localhost:8080/"
        },
        "id": "Z0pEcRW43CDc",
        "outputId": "b1484fc2-1611-4042-c215-5a59d31fb756"
      },
      "outputs": [
        {
          "output_type": "stream",
          "name": "stdout",
          "text": [
            "abcdefghijklmnopqrstuvwxyzABCDEFGHIJKLMNOPQRSTUVWXYZ .,;'\n"
          ]
        }
      ],
      "source": [
        "all_letters = string.ascii_letters + \" .,;'\"\n",
        "n_letters = len(all_letters)\n",
        "complexity = [0,1]\n",
        "\n",
        "print(all_letters)"
      ]
    },
    {
      "cell_type": "code",
      "execution_count": null,
      "metadata": {
        "colab": {
          "base_uri": "https://localhost:8080/"
        },
        "id": "LyMi03nP-C-J",
        "outputId": "7affb08c-e85f-4fe1-94dd-19898f27e387"
      },
      "outputs": [
        {
          "output_type": "execute_result",
          "data": {
            "text/plain": [
              "57"
            ]
          },
          "metadata": {},
          "execution_count": 13
        }
      ],
      "source": [
        "n_letters"
      ]
    },
    {
      "cell_type": "markdown",
      "metadata": {
        "id": "EjpgRr3hUOdf"
      },
      "source": [
        "### **Transform to tensor**"
      ]
    },
    {
      "cell_type": "markdown",
      "metadata": {
        "id": "oefdc4BVUTyU"
      },
      "source": [
        "Transform from Numpy array to PyTorch tensor matrix format."
      ]
    },
    {
      "cell_type": "code",
      "execution_count": null,
      "metadata": {
        "id": "6NNz2rXP4m-Y"
      },
      "outputs": [],
      "source": [
        "# Get letter index from all_letters, \"a\" = 0\n",
        "def letterToIndex(letter):\n",
        "    return all_letters.find(letter)"
      ]
    },
    {
      "cell_type": "code",
      "execution_count": null,
      "metadata": {
        "id": "FTCR4mAc4qcO"
      },
      "outputs": [],
      "source": [
        "assert letterToIndex('a') == 0\n",
        "assert letterToIndex('r') == 17\n",
        "assert letterToIndex('T') == 45"
      ]
    },
    {
      "cell_type": "markdown",
      "metadata": {
        "id": "6pwTxw_j6mlt"
      },
      "source": [
        "Define letterToTensor() function.  \n",
        "This function take a character(letter) as input, and transforms it into a tensor.\n",
        "\n",
        "* To represent a single character, use a 'one-hot vector' of size <1 x n_letters>. Since there are 57 letters, it will be a <1 x 57> Tensor.\n",
        "\n",
        "* To represent a line of text, join multiple 'one-hot vector' to form  <line_length x 1 x n_letters>. Line length is the length of the input text.\n"
      ]
    },
    {
      "cell_type": "code",
      "execution_count": null,
      "metadata": {
        "colab": {
          "base_uri": "https://localhost:8080/"
        },
        "id": "yayvFlq57eGV",
        "outputId": "2d6a4446-52a9-4ddb-a7a1-091216f74287"
      },
      "outputs": [
        {
          "output_type": "execute_result",
          "data": {
            "text/plain": [
              "tensor([[0., 0., 0., 0., 0., 0., 0., 0., 0., 0., 0., 0., 0., 0., 0., 0., 0., 0., 0., 0., 0., 0., 0., 0.,\n",
              "         0., 0., 0., 0., 0., 0., 0., 0., 0., 0., 0., 0., 0., 0., 0., 0., 0., 0., 0., 0., 0., 0., 0., 0.,\n",
              "         0., 0., 0., 0., 0., 0., 0., 0., 0.]], device='cuda:0')"
            ]
          },
          "metadata": {},
          "execution_count": 17
        }
      ],
      "source": [
        "# character tensor (empty)\n",
        "torch.zeros(1, n_letters).to(device)"
      ]
    },
    {
      "cell_type": "code",
      "execution_count": null,
      "metadata": {
        "colab": {
          "base_uri": "https://localhost:8080/"
        },
        "id": "eizVCGn1_8-r",
        "outputId": "72cb082c-a95e-4413-a154-d7b62f8a95fb"
      },
      "outputs": [
        {
          "output_type": "execute_result",
          "data": {
            "text/plain": [
              "tensor([[[0., 0., 0., 0., 0., 0., 0., 0., 0., 0., 0., 0., 0., 0., 0., 0., 0., 0., 0., 0., 0., 0., 0.,\n",
              "          0., 0., 0., 0., 0., 0., 0., 0., 0., 0., 0., 0., 0., 0., 0., 0., 0., 0., 0., 0., 0., 0., 0.,\n",
              "          0., 0., 0., 0., 0., 0., 0., 0., 0., 0., 0.]],\n",
              "\n",
              "        [[0., 0., 0., 0., 0., 0., 0., 0., 0., 0., 0., 0., 0., 0., 0., 0., 0., 0., 0., 0., 0., 0., 0.,\n",
              "          0., 0., 0., 0., 0., 0., 0., 0., 0., 0., 0., 0., 0., 0., 0., 0., 0., 0., 0., 0., 0., 0., 0.,\n",
              "          0., 0., 0., 0., 0., 0., 0., 0., 0., 0., 0.]],\n",
              "\n",
              "        [[0., 0., 0., 0., 0., 0., 0., 0., 0., 0., 0., 0., 0., 0., 0., 0., 0., 0., 0., 0., 0., 0., 0.,\n",
              "          0., 0., 0., 0., 0., 0., 0., 0., 0., 0., 0., 0., 0., 0., 0., 0., 0., 0., 0., 0., 0., 0., 0.,\n",
              "          0., 0., 0., 0., 0., 0., 0., 0., 0., 0., 0.]]], device='cuda:0')"
            ]
          },
          "metadata": {},
          "execution_count": 18
        }
      ],
      "source": [
        "# line tensor (emptty)\n",
        "line_length = 3\n",
        "torch.zeros(line_length, 1, n_letters).to(device)"
      ]
    },
    {
      "cell_type": "code",
      "execution_count": null,
      "metadata": {
        "id": "28aOEZjV5iQH"
      },
      "outputs": [],
      "source": [
        "# Transform a character to tensor\n",
        "# input: a character\n",
        "# output: a one-hot encoded <1 x n_letters> tensor\n",
        "#\n",
        "\n",
        "def letterToTensor(letter):\n",
        "    index = letterToIndex(letter)\n",
        "\n",
        "    tensor = torch.zeros(1, n_letters).to(device)\n",
        "    tensor[0][index] = 1\n",
        "\n",
        "    return tensor"
      ]
    },
    {
      "cell_type": "code",
      "execution_count": null,
      "metadata": {
        "id": "5v5rCY9iBKA6"
      },
      "outputs": [],
      "source": [
        "assert np.array_equal(letterToTensor('J').cpu().numpy(),np.array([[0]*35+[1]+[0]*21]))"
      ]
    },
    {
      "cell_type": "markdown",
      "metadata": {
        "id": "WI5_ObQDBMfQ"
      },
      "source": [
        "Build lineToTensor using `letterToIndex()`.  \n"
      ]
    },
    {
      "cell_type": "code",
      "execution_count": null,
      "metadata": {
        "id": "1XxDUt5NUjP_"
      },
      "outputs": [],
      "source": [
        "# Turn a line into a <line_length x 1 x n_letters>\n",
        "# input: a line of text\n",
        "# output:  a <line_length x 1 x n_letters> tensor\n",
        "def lineToTensor(line):\n",
        "\n",
        "    tensor = torch.zeros(len(line), 1, n_letters).to(device)\n",
        "    ct = 0\n",
        "\n",
        "    for letter in line:\n",
        "      letter_tensor = letterToTensor(letter)\n",
        "      tensor[ct] = letter_tensor\n",
        "      ct = ct + 1\n",
        "    return tensor"
      ]
    },
    {
      "cell_type": "code",
      "execution_count": null,
      "metadata": {
        "id": "1AJUpi3lVXOI"
      },
      "outputs": [],
      "source": [
        "assert list(lineToTensor('Jones').size()) == [5, 1, 57]"
      ]
    },
    {
      "cell_type": "markdown",
      "metadata": {
        "id": "1_-Ep5r8u3_9"
      },
      "source": [
        "### **PyTorch RNN model**"
      ]
    },
    {
      "cell_type": "markdown",
      "metadata": {
        "id": "DUoxiMKfCXzD"
      },
      "source": [
        "Use RNN model as RNNs have loops to allow information persistence, it remembers past information and use it to influence future output and good for sequences like data, in this case, text.\n"
      ]
    },
    {
      "cell_type": "code",
      "execution_count": null,
      "metadata": {
        "id": "Fk5uEe-JvjJf"
      },
      "outputs": [],
      "source": [
        "import torch\n",
        "import torch.nn as nn\n",
        "\n",
        "class RNN(nn.Module):\n",
        "    def __init__(self, input_size, hidden_size):\n",
        "        super(RNN, self).__init__()  # Calling the parent class (nn.Module) initializer\n",
        "\n",
        "        self.hidden_size = hidden_size  # Define the size of the hidden state\n",
        "\n",
        "        # Linear layer taking concatenated input and hidden state to the next hidden state\n",
        "        self.i2h = nn.Linear(input_size + hidden_size, hidden_size)\n",
        "        # Linear layer to map hidden state to output\n",
        "        self.h2o = nn.Linear(hidden_size, 2)\n",
        "        # LogSoftmax activation for output (useful for classification tasks)\n",
        "        self.softmax = nn.LogSoftmax(dim=1)\n",
        "\n",
        "    def forward(self, input, hidden):\n",
        "        # Concatenate the input and hidden tensors along dimension 1\n",
        "        combined = torch.cat((input, hidden), 1)\n",
        "        # Pass the concatenated tensor through the i2h layer to get the next hidden state\n",
        "        hidden = self.i2h(combined)\n",
        "        # Pass the hidden state through the h2o layer to get the raw output\n",
        "        output = self.h2o(hidden)\n",
        "        # Apply softmax to the raw output\n",
        "        output = self.softmax(output)\n",
        "        # Return the final output and the new hidden state\n",
        "        return output, hidden\n",
        "\n",
        "    def initHidden(self):\n",
        "        # Initializes hidden state with zeros\n",
        "        return torch.zeros(1, self.hidden_size)"
      ]
    },
    {
      "cell_type": "markdown",
      "metadata": {
        "id": "E-kvxr5Nz9Mg"
      },
      "source": [
        "### Helper functions"
      ]
    },
    {
      "cell_type": "markdown",
      "metadata": {
        "id": "Q5vpw3BI0Pp6"
      },
      "source": [
        "random_training_pair function. In each epoch, using a randomly choosen instance to train the model."
      ]
    },
    {
      "cell_type": "code",
      "execution_count": null,
      "metadata": {
        "id": "Mk5NrRAWwmbF"
      },
      "outputs": [],
      "source": [
        "'''\n",
        "Get a random input output pair to be used for training\n",
        "Input: training data (X, y)\n",
        "Return: A tuple of 4 items:\n",
        "    category: output label(category) as an integer,\n",
        "    line: input line (word) as a string,\n",
        "    category_tensor: the category as a tensor.\n",
        "    line_tensor: line as a tensor.\n",
        "'''\n",
        "def random_training_pair(X, y, seed = None):\n",
        "    # generate the random index of X\n",
        "    random.seed(seed)\n",
        "    ind = random.randint(0, len(X)-1)\n",
        "\n",
        "    # get the random X value\n",
        "    line = X[ind]\n",
        "    category = y[ind]\n",
        "\n",
        "    # transform to tensor\n",
        "    line_tensor = lineToTensor(line)\n",
        "    category_tensor = torch.zeros([1], dtype = torch.long).to(device)\n",
        "    category_tensor[0] = category\n",
        "\n",
        "    return category, line, category_tensor, line_tensor"
      ]
    },
    {
      "cell_type": "code",
      "execution_count": null,
      "metadata": {
        "colab": {
          "base_uri": "https://localhost:8080/"
        },
        "id": "JxuCng2NS_ox",
        "outputId": "ae3b290a-9624-4ad8-c3e5-a89b1fc2bc86"
      },
      "outputs": [
        {
          "output_type": "execute_result",
          "data": {
            "text/plain": [
              "[0,\n",
              " 'end',\n",
              " array([0]),\n",
              " array([[[0., 0., 0., 0., 1., 0., 0., 0., 0., 0., 0., 0., 0., 0., 0., 0.,\n",
              "          0., 0., 0., 0., 0., 0., 0., 0., 0., 0., 0., 0., 0., 0., 0., 0.,\n",
              "          0., 0., 0., 0., 0., 0., 0., 0., 0., 0., 0., 0., 0., 0., 0., 0.,\n",
              "          0., 0., 0., 0., 0., 0., 0., 0., 0.]],\n",
              " \n",
              "        [[0., 0., 0., 0., 0., 0., 0., 0., 0., 0., 0., 0., 0., 1., 0., 0.,\n",
              "          0., 0., 0., 0., 0., 0., 0., 0., 0., 0., 0., 0., 0., 0., 0., 0.,\n",
              "          0., 0., 0., 0., 0., 0., 0., 0., 0., 0., 0., 0., 0., 0., 0., 0.,\n",
              "          0., 0., 0., 0., 0., 0., 0., 0., 0.]],\n",
              " \n",
              "        [[0., 0., 0., 1., 0., 0., 0., 0., 0., 0., 0., 0., 0., 0., 0., 0.,\n",
              "          0., 0., 0., 0., 0., 0., 0., 0., 0., 0., 0., 0., 0., 0., 0., 0.,\n",
              "          0., 0., 0., 0., 0., 0., 0., 0., 0., 0., 0., 0., 0., 0., 0., 0.,\n",
              "          0., 0., 0., 0., 0., 0., 0., 0., 0.]]], dtype=float32)]"
            ]
          },
          "metadata": {},
          "execution_count": 27
        }
      ],
      "source": [
        "randomPair"
      ]
    },
    {
      "cell_type": "markdown",
      "metadata": {
        "id": "4pWPXJh2ZZiW"
      },
      "source": [
        "Implement `trainOneEpoch()` function, which train the model with one word per one epoch.\n",
        "Steps to train neural network is:\n",
        "1. Pick an X,y pair\n",
        "2. Zeroing the gradients and initializing the hidden state for the model\n",
        "3. Forward X through the model to get a prediction(output)\n",
        "4. Compare output with y to get loss\n",
        "5. Use loss to do backpropagation.\n",
        "6. Repeat from 1.\n",
        "\n",
        "\n",
        "In this example the criterion use is `nn.NLLLoss()` (Negative Log Likelihood Loss)\n"
      ]
    },
    {
      "cell_type": "code",
      "execution_count": null,
      "metadata": {
        "id": "IXqyzQvCzfVj"
      },
      "outputs": [],
      "source": [
        "'''\n",
        "trainOneEpoch with inputs:\n",
        "- model: neural network model\n",
        "- criterion: the loss function to calculate the training error\n",
        "- optimizer: the optimization algorithm to adjust model parameters\n",
        "- X: the input data\n",
        "- y: the corresponding labels\n",
        "outputs:\n",
        "- output: prediction\n",
        "- output_loss: the computed loss as a single value\n",
        "- line: the randomly choosen line from random_training_pair()\n",
        "- category: the randomly choosen category from random_training_pair()\n",
        "'''\n",
        "def trainOneEpoch(model, criterion, optimizer, X, y):\n",
        "    # Zeroing the gradients to clear up the accumulated history\n",
        "    model.zero_grad()\n",
        "    # Initializing the hidden state for the model\n",
        "    hidden = model.initHidden().to(device)\n",
        "\n",
        "    # Forward X through the model to get a prediction(output)\n",
        "    category, line, category_tensor, line_tensor = random_training_pair(X, y, seed = None)\n",
        "    for i in range(0,len(line_tensor)):\n",
        "      output, hidden = model(line_tensor[i], hidden)\n",
        "\n",
        "    # Calculating the loss between the model's output and the actual target (category_tensor)\n",
        "    loss = criterion(output, category_tensor)\n",
        "    # Compute the gradient of the loss with respect to model parameters\n",
        "    loss.backward()\n",
        "    # Updating the model parameters based on the calculated gradients\n",
        "    optimizer.step()\n",
        "    # Extracting the value of the loss as a Python number\n",
        "    output_loss = loss.data.item()\n",
        "    return output, output_loss, line, category"
      ]
    },
    {
      "cell_type": "code",
      "execution_count": null,
      "metadata": {
        "id": "Cj3J_Rz8ZAB0"
      },
      "outputs": [],
      "source": [
        "# test model\n",
        "test_model = RNN(input_size=len(all_letters), hidden_size=10).to(device)\n",
        "test_model.train()\n",
        "before = list(test_model.parameters())[-1].clone()\n",
        "output, loss, line, category = trainOneEpoch(test_model, nn.NLLLoss(),\n",
        "              torch.optim.SGD(test_model.parameters(), lr=0.2),\n",
        "              word_train_data[0], word_train_data[1])\n",
        "after = list(test_model.parameters())[-1].clone()\n",
        "\n",
        "assert not np.array_equal(before.detach().cpu().numpy(), after.detach().cpu().numpy())"
      ]
    },
    {
      "cell_type": "markdown",
      "metadata": {
        "id": "rAP4puMy0JFp"
      },
      "source": [
        "Implement predict() function to use a trained model to make predictions.\n",
        "1. If only a trained model and evaluate dataset are given, predict() only returns the predictions.\n",
        "2. If labels and a loss function are additionally given, predict() returns overall loss."
      ]
    },
    {
      "cell_type": "code",
      "execution_count": null,
      "metadata": {
        "id": "scYdAObnbGSH"
      },
      "outputs": [],
      "source": [
        "'''\n",
        "Make predictions on the input data X using the given model.\n",
        "Optionally calculate the average loss using true labels y and loss function loss_func.\n",
        "\n",
        "Input: trained model, a list of words X, a list of categories (optional), a loss function (optional)\n",
        "Output: Predictions as a NumPy array if y and loss_func are None, else the average loss.\n",
        "'''\n",
        "def predict(model, X, y = None, loss_func = None):\n",
        "    with torch.no_grad():\n",
        "        # Set the model to evaluation mode\n",
        "        model.eval()\n",
        "        # Initialize lists to store predictions and individual losses\n",
        "        pred = []\n",
        "        val_loss = []\n",
        "        # Loop over each sample in the input data X\n",
        "        for ind in range(X.shape[0]):\n",
        "            # Initialize hidden state\n",
        "            hidden = model.initHidden().to(device)\n",
        "            # Convert the current input sample to a tensor\n",
        "            val = lineToTensor(X[ind])\n",
        "            # Loop over each element in the input tensor and get the model's output\n",
        "            for i in range(val.size()[0]):\n",
        "                output, hidden = model(val[i], hidden)\n",
        "            # Move the output tensor back to CPU and extract data (log probabilities)\n",
        "            log_probabilities = output.cpu().data\n",
        "            # Calculate the prediction by comparing the log probabilities\n",
        "            log_prob0, log_prob1 = log_probabilities[0]\n",
        "            pred.append(int(log_prob0 < log_prob1))\n",
        "            # If true labels and a loss function are provided, calculate the loss for the current sample\n",
        "            if y is not None and loss_func is not None:\n",
        "                category_tensor = torch.tensor([int(y[ind])]).to(device)\n",
        "                val_loss.append(loss_func(output, category_tensor).data.item())\n",
        "\n",
        "    # If true labels and a loss function were provided, return the average loss\n",
        "    if y is not None and loss_func is not None:\n",
        "        return sum(val_loss) / len(val_loss)\n",
        "\n",
        "    # Otherwise, return the predictions as a NumPy array\n",
        "    return np.array(pred)"
      ]
    },
    {
      "cell_type": "markdown",
      "metadata": {
        "id": "5wsyMJkZ3X4W"
      },
      "source": [
        "Implement calculateAccuracy() to calculate accuracy given a model, a dataset and the labels."
      ]
    },
    {
      "cell_type": "code",
      "execution_count": null,
      "metadata": {
        "id": "S4Kz1DehbNId"
      },
      "outputs": [],
      "source": [
        "from sklearn.metrics import accuracy_score\n",
        "\n",
        "'''\n",
        "Input: trained model, a list of words, a list of class labels as integers\n",
        "Output: The accuracy score of the given model on the given input X and target y\n",
        "'''\n",
        "def calculateAccuracy(model, X, y):\n",
        "    pred = predict(model, X, y = None, loss_func = None)\n",
        "    return accuracy_score(y, pred)\n",
        "\n"
      ]
    },
    {
      "cell_type": "markdown",
      "metadata": {
        "id": "pzzEqp-v4nu3"
      },
      "source": [
        "Implement function run() train and save classification model. It also records training loss and validation loss for analysis.\n"
      ]
    },
    {
      "cell_type": "code",
      "execution_count": null,
      "metadata": {
        "id": "xtOVSO-jZ1ly"
      },
      "outputs": [],
      "source": [
        "def run(train_data, val_data, hidden_size, n_epochs, learning_rate, loss_func, print_every, plot_every, model_name):\n",
        "    X, y = train_data\n",
        "    X_val, y_val = val_data\n",
        "    model = RNN(input_size=len(all_letters), hidden_size=hidden_size)\n",
        "    model = model.to(device)\n",
        "    current_loss = 0\n",
        "    train_losses = []\n",
        "    val_losses = []\n",
        "\n",
        "    for epoch in range(0, n_epochs):\n",
        "        output, loss, line, category = trainOneEpoch(model,\n",
        "                    criterion = loss_func,\n",
        "                    optimizer=torch.optim.SGD(model.parameters(), lr=learning_rate),\n",
        "                    X=X,\n",
        "                    y=y)\n",
        "        current_loss += loss\n",
        "\n",
        "        # print intermediate reports\n",
        "        if epoch % print_every == 0:\n",
        "            log_probabilities = output.cpu().data\n",
        "            log_prob0, log_prob1 = log_probabilities[0]\n",
        "            print(log_probabilities[0])\n",
        "            prediction = int(log_prob0 < log_prob1)\n",
        "            correct = 'correct' if prediction == category else 'incorrect (True:%s)' % category\n",
        "            print('Epoch %d (%d%%)  Loss: %.4f, Word: %s, Prediction: %s | %s' % (epoch, epoch / n_epochs * 100, loss, line, prediction, correct))\n",
        "\n",
        "        if epoch % plot_every == 0:\n",
        "            # Training Loss\n",
        "            train_losses.append(current_loss/plot_every)\n",
        "            current_loss= 0\n",
        "\n",
        "            # Validation Loss\n",
        "            val_losses.append(predict(model, X_val, y_val, loss_func))\n",
        "\n",
        "    torch.save(model.state_dict(), model_name)\n",
        "    return train_losses, val_losses"
      ]
    },
    {
      "cell_type": "code",
      "execution_count": null,
      "metadata": {
        "colab": {
          "base_uri": "https://localhost:8080/"
        },
        "id": "lEFxPlrjQUBs",
        "outputId": "7c143bb6-4ac4-4090-864d-6727b797aacd"
      },
      "outputs": [
        {
          "output_type": "stream",
          "name": "stdout",
          "text": [
            "tensor([-0.7065, -0.6800])\n",
            "Epoch 0 (0%)  Loss: 0.7065, Word: forward, Prediction: 1 | incorrect (True:0)\n",
            "tensor([-0.4794, -0.9654])\n",
            "Epoch 5000 (10%)  Loss: 0.4794, Word: lose, Prediction: 0 | correct\n",
            "tensor([-0.4267, -1.0575])\n",
            "Epoch 10000 (20%)  Loss: 0.4267, Word: travel, Prediction: 0 | correct\n",
            "tensor([-0.3609, -1.1943])\n",
            "Epoch 15000 (30%)  Loss: 1.1943, Word: disputes, Prediction: 0 | incorrect (True:1)\n",
            "tensor([-2.6799, -0.0710])\n",
            "Epoch 20000 (40%)  Loss: 0.0710, Word: combating, Prediction: 1 | correct\n",
            "tensor([-0.7767, -0.6161])\n",
            "Epoch 25000 (50%)  Loss: 0.6161, Word: opponents, Prediction: 1 | correct\n",
            "tensor([-0.2091, -1.6678])\n",
            "Epoch 30000 (60%)  Loss: 0.2091, Word: wet, Prediction: 0 | correct\n",
            "tensor([-1.1786, -0.3677])\n",
            "Epoch 35000 (70%)  Loss: 1.1786, Word: uncertain, Prediction: 1 | incorrect (True:0)\n",
            "tensor([-0.9136, -0.5126])\n",
            "Epoch 40000 (80%)  Loss: 0.5126, Word: succeed, Prediction: 1 | correct\n",
            "tensor([-0.2368, -1.5568])\n",
            "Epoch 45000 (90%)  Loss: 1.5568, Word: leagues, Prediction: 0 | incorrect (True:1)\n"
          ]
        }
      ],
      "source": [
        "# simple vs complex word classification\n",
        "# 1 is complex, 0 is simple\n",
        "word_train_losses, word_val_losses = run(train_data = word_train_data,\n",
        "                              val_data = word_val_data,\n",
        "                              hidden_size = 50,\n",
        "                              n_epochs = 50000,\n",
        "                              learning_rate = 0.005,\n",
        "                              loss_func = nn.NLLLoss(),\n",
        "                              print_every = 5000,\n",
        "                              plot_every = 250,\n",
        "                              model_name = \"./word_RNN\"\n",
        "                            )"
      ]
    },
    {
      "cell_type": "code",
      "execution_count": null,
      "metadata": {
        "colab": {
          "base_uri": "https://localhost:8080/"
        },
        "id": "8rx3K9oHdc-O",
        "outputId": "8f543528-d275-4a29-a056-14e530c865ee"
      },
      "outputs": [
        {
          "output_type": "execute_result",
          "data": {
            "text/plain": [
              "<All keys matched successfully>"
            ]
          },
          "metadata": {},
          "execution_count": 37
        }
      ],
      "source": [
        "# back up trained model load back from the directory\n",
        "test_model = RNN(input_size=len(all_letters), hidden_size=50).to(device)\n",
        "test_model.load_state_dict(torch.load(\"word_RNN\"))"
      ]
    },
    {
      "cell_type": "code",
      "execution_count": null,
      "metadata": {
        "colab": {
          "base_uri": "https://localhost:8080/"
        },
        "id": "6HjAlfqCJUr-",
        "outputId": "f860d152-23a7-42a3-debc-e212dac2df57"
      },
      "outputs": [
        {
          "output_type": "execute_result",
          "data": {
            "text/plain": [
              "array(['hammer', 'renewable', 'showings', 'academy', 'continues'],\n",
              "      dtype='<U19')"
            ]
          },
          "metadata": {},
          "execution_count": 71
        }
      ],
      "source": [
        "word_val_data[0][:5]"
      ]
    },
    {
      "cell_type": "markdown",
      "metadata": {
        "id": "gz_KfA9JezFR"
      },
      "source": [
        "## **Experiment**"
      ]
    },
    {
      "cell_type": "markdown",
      "metadata": {
        "id": "tsK-sHHIytpS"
      },
      "source": [
        "Check model performance by calculating validation accuracy"
      ]
    },
    {
      "cell_type": "code",
      "execution_count": null,
      "metadata": {
        "id": "zv0VgHb53RE6"
      },
      "outputs": [],
      "source": [
        "# Set the model to evaluation mode.\n",
        "test_model.eval()\n",
        "\n",
        "\n",
        "# Compute Validation accuracy.\n",
        "# Use `word_val_data` (validation dataset)\n",
        "\n",
        "val_acc = calculateAccuracy(test_model, word_val_data[0], word_val_data[1])"
      ]
    },
    {
      "cell_type": "code",
      "execution_count": null,
      "metadata": {
        "id": "xZiVji7YAjLw"
      },
      "outputs": [],
      "source": [
        "assert val_acc > 0.5"
      ]
    },
    {
      "cell_type": "markdown",
      "metadata": {
        "id": "80OB4gVQy8wL"
      },
      "source": [
        "Compare validation loss and training loss, handle overfitting if occurs"
      ]
    },
    {
      "cell_type": "markdown",
      "metadata": {
        "id": "x6h4exyWG0h_"
      },
      "source": [
        "plot training and validation loss"
      ]
    },
    {
      "cell_type": "code",
      "execution_count": null,
      "metadata": {
        "colab": {
          "base_uri": "https://localhost:8080/",
          "height": 668
        },
        "id": "YWE3_D6SfWqG",
        "outputId": "57a9e37c-bc38-43f2-cf72-96eaa7978b30"
      },
      "outputs": [
        {
          "output_type": "error",
          "ename": "NameError",
          "evalue": "ignored",
          "traceback": [
            "\u001b[0;31m---------------------------------------------------------------------------\u001b[0m",
            "\u001b[0;31mNameError\u001b[0m                                 Traceback (most recent call last)",
            "\u001b[0;32m<ipython-input-40-27802fd90fde>\u001b[0m in \u001b[0;36m<cell line: 7>\u001b[0;34m()\u001b[0m\n\u001b[1;32m      5\u001b[0m \u001b[0mplt\u001b[0m\u001b[0;34m.\u001b[0m\u001b[0mylim\u001b[0m\u001b[0;34m(\u001b[0m\u001b[0;36m0.5\u001b[0m\u001b[0;34m,\u001b[0m \u001b[0;36m0.8\u001b[0m\u001b[0;34m)\u001b[0m\u001b[0;34m\u001b[0m\u001b[0;34m\u001b[0m\u001b[0m\n\u001b[1;32m      6\u001b[0m \u001b[0;34m\u001b[0m\u001b[0m\n\u001b[0;32m----> 7\u001b[0;31m \u001b[0mplt\u001b[0m\u001b[0;34m.\u001b[0m\u001b[0mplot\u001b[0m\u001b[0;34m(\u001b[0m\u001b[0mx\u001b[0m\u001b[0;34m,\u001b[0m \u001b[0mword_train_losses\u001b[0m\u001b[0;34m,\u001b[0m \u001b[0mcolor\u001b[0m\u001b[0;34m=\u001b[0m\u001b[0;34m'orange'\u001b[0m\u001b[0;34m)\u001b[0m\u001b[0;34m\u001b[0m\u001b[0;34m\u001b[0m\u001b[0m\n\u001b[0m\u001b[1;32m      8\u001b[0m \u001b[0mplt\u001b[0m\u001b[0;34m.\u001b[0m\u001b[0mplot\u001b[0m\u001b[0;34m(\u001b[0m\u001b[0mx\u001b[0m\u001b[0;34m,\u001b[0m \u001b[0mword_val_losses\u001b[0m\u001b[0;34m)\u001b[0m\u001b[0;34m\u001b[0m\u001b[0;34m\u001b[0m\u001b[0m\n\u001b[1;32m      9\u001b[0m \u001b[0mplt\u001b[0m\u001b[0;34m.\u001b[0m\u001b[0mtitle\u001b[0m\u001b[0;34m(\u001b[0m\u001b[0;34m'Word Validation Losses & Word Training Losses'\u001b[0m\u001b[0;34m)\u001b[0m\u001b[0;34m\u001b[0m\u001b[0;34m\u001b[0m\u001b[0m\n",
            "\u001b[0;31mNameError\u001b[0m: name 'word_train_losses' is not defined"
          ]
        },
        {
          "output_type": "display_data",
          "data": {
            "text/plain": [
              "<Figure size 640x480 with 1 Axes>"
            ],
            "image/png": "[encoded data removed]"
          },
          "metadata": {}
        }
      ],
      "source": [
        "# TODO: plot training and validation loss\n",
        "# Your loss is stored at word_val_losses and word_train_losses\n",
        "import matplotlib.pyplot as plt\n",
        "x = np.arange(0, 50000, 250)\n",
        "plt.ylim(0.5, 0.8)\n",
        "\n",
        "plt.plot(x, word_train_losses, color='orange')\n",
        "plt.plot(x, word_val_losses)\n",
        "plt.title('Word Validation Losses & Word Training Losses')\n",
        "plt.xlabel('Epoch')\n",
        "plt.ylabel('Loss Rate')\n",
        "plt.show()"
      ]
    },
    {
      "cell_type": "code",
      "execution_count": null,
      "metadata": {
        "colab": {
          "base_uri": "https://localhost:8080/"
        },
        "id": "FPbaSP71NsCO",
        "outputId": "aff81431-d069-401f-f567-ab9073bdfeab"
      },
      "outputs": [
        {
          "data": {
            "text/plain": [
              "[0.0029702677726745606,\n",
              " 0.6820396900177002,\n",
              " 0.6919387657642364,\n",
              " 0.6848987696170807,\n",
              " 0.6829410603046417]"
            ]
          },
          "execution_count": 42,
          "metadata": {},
          "output_type": "execute_result"
        }
      ],
      "source": [
        "word_train_losses[:5]"
      ]
    },
    {
      "cell_type": "markdown",
      "metadata": {
        "id": "nof4UnqGft_-"
      },
      "source": [
        "# Section 2: classification: city names"
      ]
    },
    {
      "cell_type": "markdown",
      "metadata": {
        "id": "bj8Ve6lhgBES"
      },
      "source": [
        " Use Names of the Cities dataset. The task is to predict the country a city is in.\n",
        "\n"
      ]
    },
    {
      "cell_type": "markdown",
      "metadata": {
        "id": "r4wvL8r6nT72"
      },
      "source": [
        "### **Dataset Description**"
      ]
    },
    {
      "cell_type": "markdown",
      "metadata": {
        "id": "bJxyhglvnYf0"
      },
      "source": [
        "This dataset has a list of city names and their countries as label. The following countries are included in the dataset.\n",
        "\n",
        "| Index | id | Country |\n",
        "|----------|----------|----------|\n",
        "| 0 | af | Afghanistan |\n",
        "| 1 | cn | China |\n",
        "| 2 | de | Germany |\n",
        "| 3 | fi | Finland |\n",
        "| 4 | fr | France |\n",
        "| 5 | in | India |\n",
        "| 6 | ir | Iran |\n",
        "| 7 | pk | Pakistan |\n",
        "| 8 | za | South Africa |"
      ]
    },
    {
      "cell_type": "markdown",
      "metadata": {
        "id": "aiIfVtfyH_Aj"
      },
      "source": [
        "Re-define 'group' first by languages"
      ]
    },
    {
      "cell_type": "code",
      "execution_count": null,
      "metadata": {
        "id": "I7smDVHAHsQV"
      },
      "outputs": [],
      "source": [
        "languages = [\"af\", \"cn\", \"de\", \"fi\", \"fr\", \"in\", \"ir\", \"pk\", \"za\"]"
      ]
    },
    {
      "cell_type": "code",
      "execution_count": null,
      "metadata": {
        "colab": {
          "base_uri": "https://localhost:8080/"
        },
        "id": "_INIhxiCJABE",
        "outputId": "097ba659-e170-4b2b-cb98-a0307971a6db"
      },
      "outputs": [
        {
          "output_type": "stream",
          "name": "stdout",
          "text": [
            "['nyarkheyl' 'daxikou' 'galupadeh' 'maohezi' 'airport road']\n",
            "['af' 'cn' 'de' 'cn' 'ir']\n"
          ]
        }
      ],
      "source": [
        "city_train_data_raw = readData(\"/content/\", train=True)\n",
        "city_val_data_raw = readData(\"/content/\", train=False)\n",
        "\n",
        "X_city, y_city_str = city_train_data_raw\n",
        "X_val_city, y_val_city_str = city_val_data_raw\n",
        "\n",
        "seed = 12\n",
        "local_random = np.random.RandomState(seed)\n",
        "print(X_city[local_random.choice(len(X_city), 5, replace=False)])\n",
        "local_random = np.random.RandomState(seed)\n",
        "print(y_city_str[local_random.choice(len(y_city_str), 5, replace=False)])"
      ]
    },
    {
      "cell_type": "code",
      "execution_count": null,
      "metadata": {
        "colab": {
          "base_uri": "https://localhost:8080/"
        },
        "id": "6sdtzkiLYplc",
        "outputId": "e508f91b-47a2-4c3b-9145-bdf8f4d46720"
      },
      "outputs": [
        {
          "output_type": "execute_result",
          "data": {
            "text/plain": [
              "array(['af', 'af', 'af', 'af', 'af'], dtype='<U32')"
            ]
          },
          "metadata": {},
          "execution_count": 43
        }
      ],
      "source": [
        "y_city_str[:5]"
      ]
    },
    {
      "cell_type": "markdown",
      "metadata": {
        "id": "VGMB7SWlJ7za"
      },
      "source": [
        "Pre-process `y_city_str` for PyTorch, using the index-id mapping table\n"
      ]
    },
    {
      "cell_type": "code",
      "execution_count": null,
      "metadata": {
        "id": "JdCDPiiTJ7Dw"
      },
      "outputs": [],
      "source": [
        "y_city = []\n",
        "y_val_city = []\n",
        "\n",
        "for city in y_val_city_str:\n",
        "  y_val_city.append(languages.index(city))\n",
        "for city in y_city_str:\n",
        "  y_city.append(languages.index(city))\n",
        "\n",
        "y_city = np.array(y_city)\n",
        "y_val_city = np.array(y_val_city)"
      ]
    },
    {
      "cell_type": "code",
      "execution_count": null,
      "metadata": {
        "colab": {
          "base_uri": "https://localhost:8080/"
        },
        "id": "BHE3ehwZt_MM",
        "outputId": "cc1065c4-1900-4c3d-b716-165b929fbcde"
      },
      "outputs": [
        {
          "output_type": "execute_result",
          "data": {
            "text/plain": [
              "8"
            ]
          },
          "metadata": {},
          "execution_count": 82
        }
      ],
      "source": [
        "max(y_city)"
      ]
    },
    {
      "cell_type": "code",
      "execution_count": null,
      "metadata": {
        "id": "G99nKtewLaWe"
      },
      "outputs": [],
      "source": [
        "assert y_city[10] == 0\n",
        "assert y_city[10000] == 3\n",
        "assert y_city[25000] == 8\n",
        "assert y_val_city[10] == 0\n",
        "assert y_val_city[100] == 1\n",
        "assert y_val_city[500] == 5"
      ]
    },
    {
      "cell_type": "markdown",
      "metadata": {
        "id": "1hmoApzAJ9qZ"
      },
      "source": [
        "### **multiclass model and functions**"
      ]
    },
    {
      "cell_type": "markdown",
      "metadata": {
        "id": "Y77IKupcLyJQ"
      },
      "source": [
        "Fixing `RNN()`, `predict()`, `calculateAccuracy()`, and `run()` function to handle multiclass."
      ]
    },
    {
      "cell_type": "markdown",
      "metadata": {
        "id": "aMIfYy7XMIsw"
      },
      "source": [
        "Build RNN_multi() for multiclass classification."
      ]
    },
    {
      "cell_type": "code",
      "execution_count": null,
      "metadata": {
        "id": "eJ9IefbfMHUX"
      },
      "outputs": [],
      "source": [
        "class RNN_multi(nn.Module):\n",
        "\n",
        "    def __init__(self, input_size, hidden_size, output_size):\n",
        "        super(RNN_multi, self).__init__()  # Calling the parent class (nn.Module) initializer\n",
        "\n",
        "        self.hidden_size = hidden_size  # Define the size of the hidden state\n",
        "\n",
        "        # Linear layer taking concatenated input and hidden state to the next hidden state\n",
        "        self.i2h = nn.Linear(input_size + hidden_size, hidden_size)\n",
        "        # Linear layer to map hidden state to output\n",
        "        self.h2o = nn.Linear(hidden_size, output_size)\n",
        "        # LogSoftmax activation for output\n",
        "        self.softmax = nn.LogSoftmax(dim = 1)\n",
        "\n",
        "\n",
        "    def forward(self, input, hidden):\n",
        "        combined = torch.cat((input, hidden), 1)\n",
        "        hidden = self.i2h(combined)\n",
        "        output = self.h2o(hidden)\n",
        "        output = self.softmax(output)\n",
        "        return output, hidden\n",
        "\n",
        "    def initHidden(self):\n",
        "        return torch.zeros(1, self.hidden_size)"
      ]
    },
    {
      "cell_type": "code",
      "execution_count": null,
      "metadata": {
        "colab": {
          "base_uri": "https://localhost:8080/"
        },
        "id": "PgUBQON9OCfE",
        "outputId": "46272f89-3532-43ea-b372-d19c780433f9"
      },
      "outputs": [
        {
          "output_type": "execute_result",
          "data": {
            "text/plain": [
              "RNN_multi(\n",
              "  (i2h): Linear(in_features=20, out_features=10, bias=True)\n",
              "  (h2o): Linear(in_features=10, out_features=10, bias=True)\n",
              "  (softmax): LogSoftmax(dim=1)\n",
              ")"
            ]
          },
          "metadata": {},
          "execution_count": 48
        }
      ],
      "source": [
        "RNN_multi(1,1,1)\n",
        "RNN_multi(10,10,10)"
      ]
    },
    {
      "cell_type": "markdown",
      "metadata": {
        "id": "guy42-VOSh5F"
      },
      "source": [
        "Fix `predict()` function to handle multiclass\n"
      ]
    },
    {
      "cell_type": "code",
      "execution_count": null,
      "metadata": {
        "id": "1zGFui925Web"
      },
      "outputs": [],
      "source": [
        "def predict_multi(model, X, y=None, loss_func=None):\n",
        "    with torch.no_grad():\n",
        "        model.eval()\n",
        "        pred = []\n",
        "        val_loss = []\n",
        "        for ind in range(X.shape[0]):\n",
        "            hidden = model.initHidden().to(device)\n",
        "            val = lineToTensor(X[ind])\n",
        "            for i in range(val.size()[0]):\n",
        "                output, hidden = model(val[i], hidden)\n",
        "            log_probabilities = output.cpu().data\n",
        "\n",
        "            try:\n",
        "              prediction = list(log_probabilities[0]).index(max(log_probabilities[0]))\n",
        "            except:\n",
        "              prediction = random.randint(0, len(log_probabilities[0]))\n",
        "\n",
        "            pred.append(prediction)\n",
        "\n",
        "            if y is not None and loss_func is not None:\n",
        "                category_tensor = torch.tensor([int(y[ind])]).to(device)\n",
        "                val_loss.append(loss_func(output, category_tensor).data.item())\n",
        "\n",
        "    if y is not None and loss_func is not None:\n",
        "        return sum(val_loss) / len(val_loss)\n",
        "\n",
        "    return np.array(pred)"
      ]
    },
    {
      "cell_type": "markdown",
      "metadata": {
        "id": "M_3DWwtNbb9o"
      },
      "source": [
        "Fix `calculateAccuracy()` function to handle multiclass"
      ]
    },
    {
      "cell_type": "code",
      "execution_count": null,
      "metadata": {
        "id": "_aZn9SNQbdXF"
      },
      "outputs": [],
      "source": [
        "def calculateAccuracy_multi(model, X, y):\n",
        "    preds = predict_multi(model, X)\n",
        "    return accuracy_score(preds, y)"
      ]
    },
    {
      "cell_type": "markdown",
      "metadata": {
        "id": "lwuvXV4iT7sR"
      },
      "source": [
        "Fix `Run()` function"
      ]
    },
    {
      "cell_type": "code",
      "execution_count": null,
      "metadata": {
        "id": "nPedF0IlUCpV"
      },
      "outputs": [],
      "source": [
        "def run_multi(train_data, val_data, hidden_size, n_epochs, learning_rate, loss_func, print_every, plot_every, model_name):\n",
        "    X, y = train_data\n",
        "    X_val, y_val = val_data\n",
        "\n",
        "    model = RNN_multi(input_size=len(all_letters), hidden_size=hidden_size, output_size = 9)\n",
        "    model = model.to(device)\n",
        "    current_loss = 0\n",
        "    train_losses = []\n",
        "    val_losses = []\n",
        "\n",
        "    for epoch in range(0, n_epochs):\n",
        "        output, loss, line, category = trainOneEpoch(model,\n",
        "                    criterion = loss_func,\n",
        "                    optimizer=torch.optim.SGD(model.parameters(), lr=learning_rate),\n",
        "                    X=X,\n",
        "                    y=y)\n",
        "        current_loss += loss\n",
        "\n",
        "        if epoch % print_every == 0:\n",
        "            log_probabilities = output.cpu().data\n",
        "            print(log_probabilities)\n",
        "            try:\n",
        "              prediction = list(log_probabilities[0]).index(max(log_probabilities[0]))\n",
        "            except:\n",
        "              print('in except')\n",
        "              prediction = random.randint(0, len(log_probabilities[0])-1)\n",
        "            correct = 'correct' if prediction == category else 'incorrect (True:%s)' % category\n",
        "            print('Epoch %d (%d%%)  Loss: %.4f, Word: %s, Prediction: %s | %s' % (epoch, epoch / n_epochs * 100, loss, line, prediction, correct))\n",
        "\n",
        "\n",
        "\n",
        "        if epoch % plot_every == 0:\n",
        "            train_losses.append(current_loss/plot_every)\n",
        "            current_loss= 0\n",
        "\n",
        "            # Validation Loss\n",
        "            val_losses.append(predict_multi(model, X_val, y_val, loss_func))\n",
        "\n",
        "    torch.save(model.state_dict(), model_name)\n",
        "    return train_losses, val_losses"
      ]
    },
    {
      "cell_type": "markdown",
      "metadata": {
        "id": "xTBGaEbCy5We"
      },
      "source": [
        "### **Test the new model**"
      ]
    },
    {
      "cell_type": "markdown",
      "metadata": {
        "id": "pPv2i05R5K-T"
      },
      "source": [
        "Test model with guessed hyperparameters"
      ]
    },
    {
      "cell_type": "code",
      "execution_count": null,
      "metadata": {
        "colab": {
          "base_uri": "https://localhost:8080/"
        },
        "id": "m_sLy4LefhqR",
        "outputId": "ee18c5c1-02e2-445e-cbbd-c6f013b0a188"
      },
      "outputs": [
        {
          "output_type": "stream",
          "name": "stdout",
          "text": [
            "tensor([[-1.8998, -2.3570, -2.5927, -2.2800, -2.4301, -2.2754, -2.0061, -2.1515,\n",
            "         -1.9879]])\n",
            "Epoch 0 (0%)  Loss: 2.4301, Word: les chaumes de saint-aignan, Prediction: 0 | incorrect (True:4)\n",
            "tensor([[-2.0506, -2.5873, -3.0929, -1.9698, -2.9683, -2.0129, -1.9466, -1.8818,\n",
            "         -2.0310]])\n",
            "Epoch 5000 (10%)  Loss: 1.8818, Word: shagail, Prediction: 7 | correct\n",
            "tensor([[-2.3726, -4.7765, -1.9488, -1.4442, -3.2048, -2.8840, -2.3117, -2.0939,\n",
            "         -1.6035]])\n",
            "Epoch 10000 (20%)  Loss: 1.4442, Word: rytkynpera, Prediction: 3 | correct\n",
            "tensor([[nan, nan, nan, nan, nan, nan, nan, nan, nan]])\n",
            "in except\n",
            "Epoch 15000 (30%)  Loss: nan, Word: jhamrah, Prediction: 8 | incorrect (True:7)\n",
            "tensor([[nan, nan, nan, nan, nan, nan, nan, nan, nan]])\n",
            "in except\n",
            "Epoch 20000 (40%)  Loss: nan, Word: zar sang-e pa'in, Prediction: 0 | incorrect (True:8)\n",
            "tensor([[nan, nan, nan, nan, nan, nan, nan, nan, nan]])\n",
            "in except\n",
            "Epoch 25000 (50%)  Loss: nan, Word: honkamaki, Prediction: 4 | incorrect (True:3)\n",
            "tensor([[nan, nan, nan, nan, nan, nan, nan, nan, nan]])\n",
            "in except\n",
            "Epoch 30000 (60%)  Loss: nan, Word: kenggou, Prediction: 2 | incorrect (True:1)\n",
            "tensor([[nan, nan, nan, nan, nan, nan, nan, nan, nan]])\n",
            "in except\n",
            "Epoch 35000 (70%)  Loss: nan, Word: rahim bakhsh sumra, Prediction: 8 | incorrect (True:7)\n",
            "tensor([[nan, nan, nan, nan, nan, nan, nan, nan, nan]])\n",
            "in except\n",
            "Epoch 40000 (80%)  Loss: nan, Word: zadzial, Prediction: 3 | incorrect (True:8)\n",
            "tensor([[nan, nan, nan, nan, nan, nan, nan, nan, nan]])\n",
            "in except\n",
            "Epoch 45000 (90%)  Loss: nan, Word: constanzana, Prediction: 3 | incorrect (True:8)\n"
          ]
        }
      ],
      "source": [
        "city_all_losses, city_val_losses = run_multi(train_data = city_train_data,\n",
        "                              val_data = city_val_data,\n",
        "                              hidden_size = 10,\n",
        "                              n_epochs = 50000,\n",
        "                              learning_rate = 0.01,\n",
        "                              loss_func = nn.NLLLoss(),\n",
        "                              print_every = 5000,\n",
        "                              plot_every = 250,\n",
        "                              model_name = \"./city_RNN\"\n",
        "                            )"
      ]
    },
    {
      "cell_type": "code",
      "execution_count": null,
      "metadata": {
        "colab": {
          "base_uri": "https://localhost:8080/"
        },
        "id": "6uOzePr3uDDK",
        "outputId": "939f2c64-baaa-4973-9ecf-511ae2a6132a"
      },
      "outputs": [
        {
          "output_type": "execute_result",
          "data": {
            "text/plain": [
              "<All keys matched successfully>"
            ]
          },
          "metadata": {},
          "execution_count": 53
        }
      ],
      "source": [
        "# Load saved model\n",
        "test_model_multi = RNN_multi(input_size=len(all_letters), hidden_size=10, output_size=len(languages)).to(device)\n",
        "test_model_multi.load_state_dict(torch.load(\"./city_RNN\"))"
      ]
    },
    {
      "cell_type": "markdown",
      "metadata": {
        "id": "JhctnbcxYK9c"
      },
      "source": [
        "Calculate validation accuracy and draw a training and validation loss plot."
      ]
    },
    {
      "cell_type": "code",
      "execution_count": null,
      "metadata": {
        "id": "HZRzqKk3uKXG",
        "colab": {
          "base_uri": "https://localhost:8080/"
        },
        "outputId": "d3cbf1b0-df83-48a6-86a0-3d566246e7e4"
      },
      "outputs": [
        {
          "output_type": "execute_result",
          "data": {
            "text/plain": [
              "0.08555555555555555"
            ]
          },
          "metadata": {},
          "execution_count": 54
        }
      ],
      "source": [
        "test_model_multi.eval()\n",
        "# TODO: Compute Validation accuracy. Tip: `city_val_data` is the validation dataset!\n",
        "val_acc = calculateAccuracy_multi(test_model_multi, city_val_data[0], city_val_data[1])\n",
        "val_acc"
      ]
    },
    {
      "cell_type": "code",
      "execution_count": null,
      "metadata": {
        "colab": {
          "base_uri": "https://localhost:8080/",
          "height": 472
        },
        "id": "k3JYpw8tp6tV",
        "outputId": "5f363cb2-ccc9-4214-c459-8163badf4754"
      },
      "outputs": [
        {
          "output_type": "display_data",
          "data": {
            "text/plain": [
              "<Figure size 640x480 with 1 Axes>"
            ],
            "image/png": "[encoded data removed]"
          },
          "metadata": {}
        }
      ],
      "source": [
        "x = np.arange(0, 50000, 250)\n",
        "plt.ylim(0, 3)\n",
        "\n",
        "plt.plot(x, city_all_losses, color='orange')\n",
        "plt.plot(x, city_val_losses)\n",
        "plt.title('City All Losses & City Validation Losses')\n",
        "plt.xlabel('Epoch')\n",
        "plt.ylabel('Loss Rate')\n",
        "plt.show()"
      ]
    },
    {
      "cell_type": "markdown",
      "metadata": {
        "id": "t2OK-DmHzCD4"
      },
      "source": [
        "### **Hyperparameter tuning**"
      ]
    },
    {
      "cell_type": "markdown",
      "metadata": {
        "id": "uadgnDNRnwHN"
      },
      "source": [
        "Tune 3 hyperparameters:   \n",
        "1. **learning_rate** represents how fast the model learn for each backpropagation.\n",
        "2. **hidden_size** defines the size of the hidden layer in RNN model. The larger the size, the more complex model be.\n",
        "3. **n_epochs** controls the number of epoch the model use for training."
      ]
    },
    {
      "cell_type": "markdown",
      "metadata": {
        "id": "SviwU4ACvKCI"
      },
      "source": [
        "####Learning rate tunning"
      ]
    },
    {
      "cell_type": "markdown",
      "metadata": {
        "id": "e3EghVmjstZ_"
      },
      "source": [
        "First step adjust the learning_rate = {0.0002, 0.002 0.02}"
      ]
    },
    {
      "cell_type": "markdown",
      "source": [
        "##***Report for changes in learning rate:***\n",
        "When learning rate is too large like 0.02, then the model might skipped many important features and causes some divergent behavior of the loss function, therefore the model failed to make any predictions. But for the learning rate of 0.0002, the step of backpropogation is too often and make too many updates in the weight, and this make the model have really slow training process and made many waste in the resources as many of the updates are too close to each other.\n",
        "\n",
        "When the size of the learning rate is appropriate (in the lr = 0.002 case), the loss of the model is not going to diverge but just having a steady and small fluctuation."
      ],
      "metadata": {
        "id": "l_q5PDbLnX0Y"
      }
    },
    {
      "cell_type": "code",
      "execution_count": null,
      "metadata": {
        "id": "WAd_PowOp6SG",
        "colab": {
          "base_uri": "https://localhost:8080/"
        },
        "outputId": "5881efcf-7de4-4356-ad1d-000d7538e435"
      },
      "outputs": [
        {
          "output_type": "stream",
          "name": "stdout",
          "text": [
            "tensor([[-2.3141, -2.1871, -2.1962, -2.4560, -2.0446, -2.0966, -2.4531, -2.0667,\n",
            "         -2.0641]])\n",
            "Epoch 0 (0%)  Loss: 2.1871, Word: laidicun, Prediction: 4 | incorrect (True:1)\n",
            "tensor([[-2.2652, -2.1900, -2.1596, -2.4561, -2.0702, -2.1275, -2.4135, -2.1035,\n",
            "         -2.0691]])\n",
            "Epoch 5000 (10%)  Loss: 2.1900, Word: longyang zhen, Prediction: 8 | incorrect (True:1)\n",
            "tensor([[-2.2692, -2.1790, -2.2017, -2.3735, -2.0391, -2.0814, -2.4441, -2.1167,\n",
            "         -2.1409]])\n",
            "Epoch 10000 (20%)  Loss: 2.3735, Word: huuhkaala, Prediction: 4 | incorrect (True:3)\n",
            "tensor([[-2.2356, -2.1636, -2.2043, -2.3414, -2.0997, -2.2299, -2.3452, -2.1208,\n",
            "         -2.0728]])\n",
            "Epoch 15000 (30%)  Loss: 2.2299, Word: pitingao, Prediction: 8 | incorrect (True:5)\n",
            "tensor([[-2.3356, -2.1919, -2.1968, -2.2957, -2.0310, -2.1134, -2.3546, -2.1348,\n",
            "         -2.1674]])\n",
            "Epoch 20000 (40%)  Loss: 2.2957, Word: lafitole, Prediction: 4 | incorrect (True:3)\n",
            "tensor([[-2.2104, -2.1884, -2.2385, -2.3125, -2.1134, -2.1914, -2.3175, -2.1067,\n",
            "         -2.1214]])\n",
            "Epoch 25000 (50%)  Loss: 2.1067, Word: wara sidhu, Prediction: 7 | correct\n",
            "tensor([[-2.2470, -2.1805, -2.2129, -2.2644, -2.1060, -2.1304, -2.3600, -2.1175,\n",
            "         -2.1825]])\n",
            "Epoch 30000 (60%)  Loss: 2.2470, Word: chahar bala, Prediction: 4 | incorrect (True:0)\n",
            "tensor([[-2.1981, -2.1819, -2.2406, -2.2843, -2.1240, -2.2202, -2.2719, -2.1350,\n",
            "         -2.1336]])\n",
            "Epoch 35000 (70%)  Loss: 2.1240, Word: terrou, Prediction: 4 | correct\n",
            "tensor([[-2.2782, -2.1263, -2.2194, -2.2428, -2.2537, -2.1443, -2.2663, -2.1435,\n",
            "         -2.1177]])\n",
            "Epoch 40000 (80%)  Loss: 2.1263, Word: yingwuxi, Prediction: 8 | incorrect (True:1)\n",
            "tensor([[-2.2546, -2.1707, -2.1832, -2.2866, -2.1609, -2.1728, -2.2331, -2.1736,\n",
            "         -2.1485]])\n",
            "Epoch 45000 (90%)  Loss: 2.2331, Word: rairal kalan, Prediction: 8 | incorrect (True:6)\n",
            "tensor([[-2.0811, -2.3107, -2.3537, -1.9637, -2.3458, -2.0061, -2.5776, -2.2795,\n",
            "         -2.0242]])\n",
            "Epoch 0 (0%)  Loss: 2.3458, Word: roufenc, Prediction: 3 | incorrect (True:4)\n",
            "tensor([[-2.2365, -2.1501, -2.1641, -2.2104, -2.2295, -2.1787, -2.1930, -2.1629,\n",
            "         -2.2553]])\n",
            "Epoch 5000 (10%)  Loss: 2.1629, Word: terawali soling, Prediction: 1 | incorrect (True:7)\n",
            "tensor([[-2.0949, -2.0670, -2.1542, -2.3246, -2.0824, -2.2986, -2.2585, -2.2740,\n",
            "         -2.2624]])\n",
            "Epoch 10000 (20%)  Loss: 2.2740, Word: tatar khel, Prediction: 1 | incorrect (True:7)\n",
            "tensor([[-2.4377, -2.1212, -2.0765, -2.2418, -1.8822, -2.2882, -2.1271, -2.3348,\n",
            "         -2.3925]])\n",
            "Epoch 15000 (30%)  Loss: 2.2418, Word: old brownfield, Prediction: 4 | incorrect (True:3)\n",
            "tensor([[-2.8412, -1.7188, -1.7281, -2.4971, -1.7831, -2.0558, -2.4647, -2.9072,\n",
            "         -2.7086]])\n",
            "Epoch 20000 (40%)  Loss: 2.0558, Word: fontaine-les-dijon, Prediction: 1 | incorrect (True:5)\n",
            "tensor([[-2.0713, -1.7344, -2.6574, -2.4721, -2.8052, -2.1927, -1.9562, -2.0686,\n",
            "         -2.2724]])\n",
            "Epoch 25000 (50%)  Loss: 2.0713, Word: shayrwan-e pa'in, Prediction: 1 | incorrect (True:0)\n",
            "tensor([[-3.0381, -1.0380, -2.4357, -2.4346, -2.8502, -1.6237, -2.7080, -2.9502,\n",
            "         -3.0216]])\n",
            "Epoch 30000 (60%)  Loss: 1.6237, Word: lorring, Prediction: 1 | incorrect (True:5)\n",
            "tensor([[-2.5784, -2.5054, -2.2932, -1.8820, -2.5718, -1.7865, -1.8927, -2.3018,\n",
            "         -2.3587]])\n",
            "Epoch 35000 (70%)  Loss: 2.5718, Word: fronhofen-kautenbach, Prediction: 5 | incorrect (True:4)\n",
            "tensor([[-1.7071, -2.3311, -6.0395, -3.4828, -6.1482, -3.1934, -2.3391, -0.7423,\n",
            "         -2.6214]])\n",
            "Epoch 40000 (80%)  Loss: 2.6214, Word: shamali `alizai, Prediction: 7 | incorrect (True:8)\n",
            "tensor([[-3.0811, -2.1686, -3.0454, -1.5729, -3.5113, -1.1718, -2.5574, -2.3452,\n",
            "         -2.6346]])\n",
            "Epoch 45000 (90%)  Loss: 2.6346, Word: zaouiet sadaguia, Prediction: 5 | incorrect (True:8)\n",
            "tensor([[-2.2904, -2.4718, -2.3077, -2.1485, -2.3515, -2.0743, -1.9744, -2.0046,\n",
            "         -2.2656]])\n",
            "Epoch 0 (0%)  Loss: 2.1485, Word: bergenfield, Prediction: 6 | incorrect (True:3)\n",
            "tensor([[nan, nan, nan, nan, nan, nan, nan, nan, nan]])\n",
            "in except\n",
            "Epoch 5000 (10%)  Loss: nan, Word: safarogbon, Prediction: 4 | incorrect (True:0)\n",
            "tensor([[nan, nan, nan, nan, nan, nan, nan, nan, nan]])\n",
            "in except\n",
            "Epoch 10000 (20%)  Loss: nan, Word: le quiliou, Prediction: 5 | incorrect (True:4)\n",
            "tensor([[nan, nan, nan, nan, nan, nan, nan, nan, nan]])\n",
            "in except\n",
            "Epoch 15000 (30%)  Loss: nan, Word: chaichiaping, Prediction: 0 | incorrect (True:1)\n",
            "tensor([[nan, nan, nan, nan, nan, nan, nan, nan, nan]])\n",
            "in except\n",
            "Epoch 20000 (40%)  Loss: nan, Word: darreh gavan, Prediction: 6 | correct\n",
            "tensor([[nan, nan, nan, nan, nan, nan, nan, nan, nan]])\n",
            "in except\n",
            "Epoch 25000 (50%)  Loss: nan, Word: midekin, Prediction: 7 | incorrect (True:2)\n",
            "tensor([[nan, nan, nan, nan, nan, nan, nan, nan, nan]])\n",
            "in except\n",
            "Epoch 30000 (60%)  Loss: nan, Word: jubb al khafi, Prediction: 1 | incorrect (True:0)\n",
            "tensor([[nan, nan, nan, nan, nan, nan, nan, nan, nan]])\n",
            "in except\n",
            "Epoch 35000 (70%)  Loss: nan, Word: ortlfingen, Prediction: 0 | incorrect (True:5)\n",
            "tensor([[nan, nan, nan, nan, nan, nan, nan, nan, nan]])\n",
            "in except\n",
            "Epoch 40000 (80%)  Loss: nan, Word: baqing xian, Prediction: 8 | incorrect (True:1)\n",
            "tensor([[nan, nan, nan, nan, nan, nan, nan, nan, nan]])\n",
            "in except\n",
            "Epoch 45000 (90%)  Loss: nan, Word: chujranwala, Prediction: 5 | incorrect (True:7)\n"
          ]
        }
      ],
      "source": [
        "losses_varies_lr = []\n",
        "learning_rate = [0.0002, 0.002, 0.02]\n",
        "for lr in learning_rate:\n",
        "  city_all_losses, city_val_losses = run_multi(train_data = city_train_data,\n",
        "                              val_data = city_val_data,\n",
        "                              hidden_size = 10,\n",
        "                              n_epochs = 50000,\n",
        "                              learning_rate = lr,\n",
        "                              loss_func = nn.NLLLoss(),\n",
        "                              print_every = 5000,\n",
        "                              plot_every = 250,\n",
        "                              model_name = \"./city_RNN\" + \"_\" + str(lr)\n",
        "                            )\n",
        "  losses_varies_lr.append((lr, city_all_losses, city_val_losses))\n"
      ]
    },
    {
      "cell_type": "code",
      "source": [
        "import pickle\n",
        "with open('losses_varies_lr', 'wb') as fp:\n",
        "    pickle.dump(losses_varies_lr, fp)"
      ],
      "metadata": {
        "id": "iTzYxJSVaSZ-"
      },
      "execution_count": null,
      "outputs": []
    },
    {
      "cell_type": "code",
      "source": [
        "with open ('losses_varies_lr', 'rb') as fp:\n",
        "    losses_varies_lr = pickle.load(fp)"
      ],
      "metadata": {
        "id": "Ahsh2rjxaaPW"
      },
      "execution_count": null,
      "outputs": []
    },
    {
      "cell_type": "code",
      "source": [
        "# Model with learning rate 0.0002\n",
        "test_model_lr1_multi = RNN_multi(input_size=len(all_letters), hidden_size=10, output_size=len(languages)).to(device)\n",
        "test_model_lr1_multi.load_state_dict(torch.load(\"./city_RNN_0.0002\"))"
      ],
      "metadata": {
        "colab": {
          "base_uri": "https://localhost:8080/"
        },
        "id": "gt6g9k8RcfOR",
        "outputId": "448fe9df-4e79-4501-a91a-4141c09e77bc"
      },
      "execution_count": null,
      "outputs": [
        {
          "output_type": "execute_result",
          "data": {
            "text/plain": [
              "<All keys matched successfully>"
            ]
          },
          "metadata": {},
          "execution_count": 55
        }
      ]
    },
    {
      "cell_type": "code",
      "source": [
        "test_model_lr1_multi.eval()\n",
        "# Compute Validation accuracy. `city_val_data`  = validation dataset\n",
        "val_acc_lr1 = calculateAccuracy_multi(test_model_lr1_multi, city_val_data[0], city_val_data[1])\n",
        "print(val_acc_lr1)\n",
        "# Draw training and validation loss plot\n",
        "x = np.arange(0, 50000, 250)\n",
        "plt.ylim(0, 3)\n",
        "plt.plot(x, losses_varies_lr[0][1], color='orange')\n",
        "plt.plot(x, losses_varies_lr[0][2])\n",
        "plt.title('City Training Losses & City Validation Losses with Learning Rate 0.0002')\n",
        "plt.xlabel('Epoch')\n",
        "plt.ylabel('Loss Rate')\n",
        "plt.show()"
      ],
      "metadata": {
        "colab": {
          "base_uri": "https://localhost:8080/",
          "height": 490
        },
        "id": "X4qjtXeezaqv",
        "outputId": "b86f4d7d-5581-4c4b-ed40-ccf23007ad46"
      },
      "execution_count": null,
      "outputs": [
        {
          "output_type": "stream",
          "name": "stdout",
          "text": [
            "0.16777777777777778\n"
          ]
        },
        {
          "output_type": "display_data",
          "data": {
            "text/plain": [
              "<Figure size 640x480 with 1 Axes>"
            ],
            "image/png": "[encoded data removed]"
          },
          "metadata": {}
        }
      ]
    },
    {
      "cell_type": "code",
      "source": [
        "# Model with learning rate 0.002\n",
        "test_model_lr2_multi = RNN_multi(input_size=len(all_letters), hidden_size=10, output_size=len(languages)).to(device)\n",
        "test_model_lr2_multi.load_state_dict(torch.load(\"./city_RNN_0.002\"))"
      ],
      "metadata": {
        "colab": {
          "base_uri": "https://localhost:8080/"
        },
        "id": "1TpNPMxhzJr-",
        "outputId": "0968d8c8-a0cb-452d-8c2b-7751e9c93ce3"
      },
      "execution_count": null,
      "outputs": [
        {
          "output_type": "execute_result",
          "data": {
            "text/plain": [
              "<All keys matched successfully>"
            ]
          },
          "metadata": {},
          "execution_count": 85
        }
      ]
    },
    {
      "cell_type": "code",
      "source": [
        "test_model_lr2_multi.eval()\n",
        "# Compute Validation accuracy.\n",
        "val_acc_lr2 = calculateAccuracy_multi(test_model_lr2_multi, city_val_data[0], city_val_data[1])\n",
        "print(val_acc_lr2)\n",
        "# Draw training and validation loss plot\n",
        "x = np.arange(0, 50000, 250)\n",
        "plt.ylim(0, 3)\n",
        "plt.plot(x, losses_varies_lr[1][1], color='orange')\n",
        "plt.plot(x, losses_varies_lr[1][2])\n",
        "plt.title('City Training Losses & City Validation Losses with Learning Rate 0.002')\n",
        "plt.xlabel('Epoch')\n",
        "plt.ylabel('Loss Rate')\n",
        "plt.show()"
      ],
      "metadata": {
        "colab": {
          "base_uri": "https://localhost:8080/",
          "height": 490
        },
        "id": "p6iSGs4czfUn",
        "outputId": "cf7cb897-912b-41d0-afe5-6754070f49e4"
      },
      "execution_count": null,
      "outputs": [
        {
          "output_type": "stream",
          "name": "stdout",
          "text": [
            "0.37444444444444447\n"
          ]
        },
        {
          "output_type": "display_data",
          "data": {
            "text/plain": [
              "<Figure size 640x480 with 1 Axes>"
            ],
            "image/png": "[encoded data removed]"
          },
          "metadata": {}
        }
      ]
    },
    {
      "cell_type": "markdown",
      "metadata": {
        "id": "j5MWnYIPudui"
      },
      "source": [
        "#### hidden layer size tunning"
      ]
    },
    {
      "cell_type": "markdown",
      "metadata": {
        "id": "UEt7fSIEsyJB"
      },
      "source": [
        "adjust hidden_size = {10, 50, 100}"
      ]
    },
    {
      "cell_type": "markdown",
      "source": [
        "##***Report for changes in Hidden Layer Size:***\n",
        "As the size of the hidden layer increasing, the accuracy of the model increased because the model is better fit the data. For the first two value of the hidden layer (hidden size = 10 and 50), we found that around the epoch number in 40000, there are a significant increasing in the loss in both of model and then the two models reduce the loss very slowly. But with the hidden size equals to 100, the increasing in loss around 40000 epoch is just a slight spike. This might resulted that the around epoch of 40000, there is a outlier feature learned by the model, and the model with lower hidden size is underfitting, therefore, the effects of that feature is huge, but with a larger hidden layer size, the model could fit the data better, such that reduce the effect of an outlier feature it learned from the data."
      ],
      "metadata": {
        "id": "nNnV47u33_t7"
      }
    },
    {
      "cell_type": "code",
      "execution_count": null,
      "metadata": {
        "id": "NO3QLqZ0udSG",
        "colab": {
          "base_uri": "https://localhost:8080/"
        },
        "outputId": "049d8953-f60e-4a45-be23-1e3355ef7e23"
      },
      "outputs": [
        {
          "output_type": "stream",
          "name": "stdout",
          "text": [
            "tensor([[-2.0382, -2.2470, -2.0690, -2.4526, -2.1684, -2.3634, -2.1247, -2.3725,\n",
            "         -2.0368]])\n",
            "Epoch 0 (0%)  Loss: 2.3725, Word: tong, Prediction: 8 | incorrect (True:7)\n",
            "tensor([[-2.1809, -2.2318, -2.1697, -2.3484, -2.0680, -2.2545, -2.1309, -2.2537,\n",
            "         -2.1639]])\n",
            "Epoch 5000 (10%)  Loss: 2.0680, Word: portets, Prediction: 4 | correct\n",
            "tensor([[-2.1415, -2.3533, -2.1755, -2.1657, -2.1707, -2.2450, -2.1631, -2.1684,\n",
            "         -2.2083]])\n",
            "Epoch 10000 (20%)  Loss: 2.2083, Word: pir-i-bazar, Prediction: 0 | incorrect (True:8)\n",
            "tensor([[-2.1085, -2.3394, -2.0939, -2.2484, -2.1927, -2.2137, -2.1952, -2.1457,\n",
            "         -2.2615]])\n",
            "Epoch 15000 (30%)  Loss: 2.2484, Word: fich, Prediction: 2 | incorrect (True:3)\n",
            "tensor([[-2.0825, -2.8763, -2.2310, -2.2672, -1.5970, -2.4733, -2.2450, -2.3607,\n",
            "         -2.1127]])\n",
            "Epoch 20000 (40%)  Loss: 2.0825, Word: qowl bars, Prediction: 4 | incorrect (True:0)\n",
            "tensor([[-1.5864, -7.3166, -1.5189, -2.7150, -2.0935, -5.1554, -1.9418, -2.0579,\n",
            "         -2.2135]])\n",
            "Epoch 25000 (50%)  Loss: 2.0935, Word: villers-le-tourneur, Prediction: 2 | incorrect (True:4)\n",
            "tensor([[-2.3841, -1.6736, -3.7018, -1.9710, -4.1509, -1.7442, -2.3258, -1.5862,\n",
            "         -2.7596]])\n",
            "Epoch 30000 (60%)  Loss: 1.5862, Word: maidani, Prediction: 7 | correct\n",
            "tensor([[-1.7086, -2.4358, -4.4643, -2.2522, -4.8269, -2.3921, -2.0772, -1.1037,\n",
            "         -2.8423]])\n",
            "Epoch 35000 (70%)  Loss: 2.0772, Word: aghajan, Prediction: 7 | incorrect (True:6)\n",
            "tensor([[-2.3107, -2.1745, -2.3301, -2.0644, -2.8811, -1.8725, -1.9096, -2.1729,\n",
            "         -2.3951]])\n",
            "Epoch 40000 (80%)  Loss: 2.3301, Word: struh, Prediction: 5 | incorrect (True:2)\n",
            "tensor([[-1.1609, -4.6164, -2.7678, -2.4447, -2.2915, -3.7884, -2.1440, -2.1035,\n",
            "         -1.8056]])\n",
            "Epoch 45000 (90%)  Loss: 1.1609, Word: sharghilay, Prediction: 0 | correct\n",
            "tensor([[-2.1262, -2.1383, -2.2914, -2.2367, -2.1221, -2.1463, -2.1431, -2.2417,\n",
            "         -2.3574]])\n",
            "Epoch 0 (0%)  Loss: 2.2914, Word: sidedes, Prediction: 4 | incorrect (True:2)\n",
            "tensor([[-2.1671, -2.2781, -2.2348, -2.2453, -2.2133, -2.1708, -2.2349, -2.1039,\n",
            "         -2.1397]])\n",
            "Epoch 5000 (10%)  Loss: 2.1708, Word: beesleys point, Prediction: 7 | incorrect (True:5)\n",
            "tensor([[-2.1627, -2.2249, -2.2713, -2.1455, -2.3406, -2.1965, -2.2619, -2.0117,\n",
            "         -2.1952]])\n",
            "Epoch 10000 (20%)  Loss: 2.2619, Word: mardavi, Prediction: 7 | incorrect (True:6)\n",
            "tensor([[-2.4396, -1.7894, -1.9088, -2.4954, -1.8819, -2.0194, -2.2925, -2.8143,\n",
            "         -2.6732]])\n",
            "Epoch 15000 (30%)  Loss: 1.7894, Word: laochachen, Prediction: 1 | correct\n",
            "tensor([[-2.3159, -2.2432, -3.0964, -2.1149, -2.8121, -2.0364, -2.0392, -1.8122,\n",
            "         -1.9286]])\n",
            "Epoch 20000 (40%)  Loss: 2.0392, Word: wangkir, Prediction: 7 | incorrect (True:6)\n",
            "tensor([[-3.8304, -3.6818, -1.3853, -2.3897, -0.8171, -2.4994, -3.2231, -4.5403,\n",
            "         -3.3000]])\n",
            "Epoch 25000 (50%)  Loss: 2.3897, Word: fiesole, Prediction: 4 | incorrect (True:3)\n",
            "tensor([[-4.8270, -7.3180, -1.1609, -0.9215, -1.7337, -3.4060, -2.9773, -4.8384,\n",
            "         -4.4636]])\n",
            "Epoch 30000 (60%)  Loss: 2.9773, Word: do tuyeh-ye bala, Prediction: 3 | incorrect (True:6)\n",
            "tensor([[-1.7854, -3.9539, -2.2532, -2.5457, -2.3687, -3.2413, -1.5858, -1.8976,\n",
            "         -1.9505]])\n",
            "Epoch 35000 (70%)  Loss: 2.2532, Word: kundeshwar, Prediction: 6 | incorrect (True:2)\n",
            "tensor([[-1.9685, -4.5176, -3.6934, -1.2833, -4.0470, -2.6132, -1.8066, -1.4245,\n",
            "         -2.9607]])\n",
            "Epoch 40000 (80%)  Loss: 1.8066, Word: sharafi, Prediction: 3 | incorrect (True:6)\n",
            "tensor([[-2.7949, -5.5029, -1.6160, -2.5592, -0.8049, -3.2134, -2.4160, -3.4178,\n",
            "         -3.0096]])\n",
            "Epoch 45000 (90%)  Loss: 2.7949, Word: sitio aristeu afonso guimaraes, Prediction: 4 | incorrect (True:0)\n",
            "tensor([[-2.2599, -2.1585, -2.3061, -2.2002, -2.1929, -2.1919, -2.1704, -2.1653,\n",
            "         -2.1408]])\n",
            "Epoch 0 (0%)  Loss: 2.1408, Word: oued zargua, Prediction: 8 | correct\n",
            "tensor([[-2.2234, -2.2680, -2.2156, -2.2406, -2.2416, -2.2577, -2.0532, -2.1223,\n",
            "         -2.1733]])\n",
            "Epoch 5000 (10%)  Loss: 2.2234, Word: kawur, Prediction: 6 | incorrect (True:0)\n",
            "tensor([[-2.2343, -2.2394, -2.1495, -2.1297, -2.1745, -2.2906, -2.1563, -2.2476,\n",
            "         -2.1654]])\n",
            "Epoch 10000 (20%)  Loss: 2.2343, Word: kallagerd, Prediction: 3 | incorrect (True:0)\n",
            "tensor([[-1.6313, -6.0713, -3.6959, -2.8436, -3.4113, -5.2959, -1.9521, -1.1345,\n",
            "         -1.5260]])\n",
            "Epoch 15000 (30%)  Loss: 1.5260, Word: douar el mezailia, Prediction: 7 | incorrect (True:8)\n",
            "tensor([[-1.7698, -4.1806, -1.6067, -2.6592, -1.7265, -3.6844, -2.0984, -2.4802,\n",
            "         -2.0070]])\n",
            "Epoch 20000 (40%)  Loss: 2.0070, Word: waverley, Prediction: 2 | incorrect (True:8)\n",
            "tensor([[-2.1605, -2.6448, -3.0343, -2.0308, -2.5141, -1.9574, -2.0671, -1.7336,\n",
            "         -2.2162]])\n",
            "Epoch 25000 (50%)  Loss: 2.0308, Word: norra paippis, Prediction: 7 | incorrect (True:3)\n",
            "tensor([[-3.8829, -2.8682, -1.4282, -1.4813, -1.7474, -1.9006, -3.0078, -3.8804,\n",
            "         -2.7845]])\n",
            "Epoch 30000 (60%)  Loss: 1.7474, Word: conselho martim francisco, Prediction: 2 | incorrect (True:4)\n",
            "tensor([[-3.4621, -1.5614, -2.1433, -2.4228, -2.1640, -1.1935, -2.7470, -3.6937,\n",
            "         -3.0828]])\n",
            "Epoch 35000 (70%)  Loss: 1.1935, Word: maoerping, Prediction: 5 | correct\n",
            "tensor([[-3.7636, -5.2897, -1.1695, -2.4892, -1.0601, -2.5087, -2.5133, -3.2590,\n",
            "         -3.4721]])\n",
            "Epoch 40000 (80%)  Loss: 1.1695, Word: trom kplende, Prediction: 4 | incorrect (True:2)\n",
            "tensor([[-1.4044, -5.2681, -2.3904, -3.7346, -2.4752, -4.3380, -1.9602, -2.1889,\n",
            "         -1.2596]])\n",
            "Epoch 45000 (90%)  Loss: 2.3904, Word: bubach an der naab, Prediction: 8 | incorrect (True:2)\n"
          ]
        }
      ],
      "source": [
        "losses_varies_hz = []\n",
        "hidden_sizes = [10, 50, 100]\n",
        "for hz in hidden_sizes:\n",
        "  city_all_losses, city_val_losses = run_multi(train_data = city_train_data,\n",
        "                              val_data = city_val_data,\n",
        "                              hidden_size = hz,\n",
        "                              n_epochs = 50000,\n",
        "                              learning_rate = 0.002,\n",
        "                              loss_func = nn.NLLLoss(),\n",
        "                              print_every = 5000,\n",
        "                              plot_every = 250,\n",
        "                              model_name = \"./city_RNN\" + \"_hz_\" + str(hz)\n",
        "                            )\n",
        "  losses_varies_hz.append((hz, city_all_losses, city_val_losses))"
      ]
    },
    {
      "cell_type": "code",
      "source": [
        "# Model with hidden size 10\n",
        "test_model_hz1_multi = RNN_multi(input_size=len(all_letters), hidden_size=10, output_size=len(languages)).to(device)\n",
        "test_model_hz1_multi.load_state_dict(torch.load(\"./city_RNN_hz_10\"))"
      ],
      "metadata": {
        "id": "5rHfmcws9d69",
        "colab": {
          "base_uri": "https://localhost:8080/"
        },
        "outputId": "002c96ea-8cf4-469c-9ab7-a207e4186a9a"
      },
      "execution_count": null,
      "outputs": [
        {
          "output_type": "execute_result",
          "data": {
            "text/plain": [
              "<All keys matched successfully>"
            ]
          },
          "metadata": {},
          "execution_count": 60
        }
      ]
    },
    {
      "cell_type": "code",
      "source": [
        "test_model_hz1_multi.eval()\n",
        "# Compute Validation accuracy.\n",
        "val_acc_hz1 = calculateAccuracy_multi(test_model_hz1_multi, city_val_data[0], city_val_data[1])\n",
        "print(val_acc_hz1)\n",
        "# Draw training and validation loss plot\n",
        "x = np.arange(0, 50000, 250)\n",
        "plt.ylim(0, 3)\n",
        "plt.plot(x, losses_varies_hz[0][1], color='orange')\n",
        "plt.plot(x, losses_varies_hz[0][2])\n",
        "plt.title('City Training Losses & City Validation Losses with Hidden Size 10')\n",
        "plt.xlabel('Epoch')\n",
        "plt.ylabel('Loss Rate')\n",
        "plt.show()"
      ],
      "metadata": {
        "id": "UEnzxa4--YNW",
        "colab": {
          "base_uri": "https://localhost:8080/",
          "height": 490
        },
        "outputId": "96439257-ef5e-4f4a-d31e-990524c0134e"
      },
      "execution_count": null,
      "outputs": [
        {
          "output_type": "stream",
          "name": "stdout",
          "text": [
            "0.28888888888888886\n"
          ]
        },
        {
          "output_type": "display_data",
          "data": {
            "text/plain": [
              "<Figure size 640x480 with 1 Axes>"
            ],
            "image/png": "[encoded data removed]"
          },
          "metadata": {}
        }
      ]
    },
    {
      "cell_type": "code",
      "source": [
        "# Model with hidden size 50\n",
        "test_model_hz2_multi = RNN_multi(input_size=len(all_letters), hidden_size=50, output_size=len(languages)).to(device)\n",
        "test_model_hz2_multi.load_state_dict(torch.load(\"./city_RNN_hz_50\"))"
      ],
      "metadata": {
        "id": "4dB-T0wV9mfj",
        "colab": {
          "base_uri": "https://localhost:8080/"
        },
        "outputId": "4610b22a-8e37-492c-ecf3-555e87650ef4"
      },
      "execution_count": null,
      "outputs": [
        {
          "output_type": "execute_result",
          "data": {
            "text/plain": [
              "<All keys matched successfully>"
            ]
          },
          "metadata": {},
          "execution_count": 63
        }
      ]
    },
    {
      "cell_type": "code",
      "source": [
        "test_model_hz2_multi.eval()\n",
        "# Compute Validation accuracy.\n",
        "val_acc_hz2 = calculateAccuracy_multi(test_model_hz2_multi, city_val_data[0], city_val_data[1])\n",
        "print(val_acc_hz2)\n",
        "# Draw training and validation loss plot\n",
        "x = np.arange(0, 50000, 250)\n",
        "plt.ylim(0, 3)\n",
        "plt.plot(x, losses_varies_hz[1][1], color='orange')\n",
        "plt.plot(x, losses_varies_hz[1][2])\n",
        "plt.title('City Training Losses & City Validation Losses with Hidden Size 50')\n",
        "plt.xlabel('Epoch')\n",
        "plt.ylabel('Loss Rate')\n",
        "plt.show()"
      ],
      "metadata": {
        "id": "LUvN5rsr-p_T",
        "colab": {
          "base_uri": "https://localhost:8080/",
          "height": 490
        },
        "outputId": "fd5460f7-0e41-46ed-c78f-84b4852e575e"
      },
      "execution_count": null,
      "outputs": [
        {
          "output_type": "stream",
          "name": "stdout",
          "text": [
            "0.37333333333333335\n"
          ]
        },
        {
          "output_type": "display_data",
          "data": {
            "text/plain": [
              "<Figure size 640x480 with 1 Axes>"
            ],
            "image/png": "[encoded data removed]"
          },
          "metadata": {}
        }
      ]
    },
    {
      "cell_type": "code",
      "source": [
        "# Model with hidden size 100\n",
        "test_model_hz3_multi = RNN_multi(input_size=len(all_letters), hidden_size=100, output_size=len(languages)).to(device)\n",
        "test_model_hz3_multi.load_state_dict(torch.load(\"./city_RNN_hz_100\"))"
      ],
      "metadata": {
        "id": "5ie0Vq1h9qUC",
        "colab": {
          "base_uri": "https://localhost:8080/"
        },
        "outputId": "9a726ec0-b8ab-4cd0-89f5-8646ef049f49"
      },
      "execution_count": null,
      "outputs": [
        {
          "output_type": "execute_result",
          "data": {
            "text/plain": [
              "<All keys matched successfully>"
            ]
          },
          "metadata": {},
          "execution_count": 65
        }
      ]
    },
    {
      "cell_type": "code",
      "source": [
        "test_model_hz3_multi.eval()\n",
        "# Compute Validation accuracy.\n",
        "val_acc_hz3 = calculateAccuracy_multi(test_model_hz3_multi, city_val_data[0], city_val_data[1])\n",
        "print(val_acc_hz3)\n",
        "# Draw training and validation loss plot\n",
        "x = np.arange(0, 50000, 250)\n",
        "plt.ylim(0, 3)\n",
        "plt.plot(x, losses_varies_hz[2][1], color='orange')\n",
        "plt.plot(x, losses_varies_hz[2][2])\n",
        "plt.title('City Training Losses & City Validation Losses with Hidden Size 100')\n",
        "plt.xlabel('Epoch')\n",
        "plt.ylabel('Loss Rate')\n",
        "plt.show()"
      ],
      "metadata": {
        "id": "H2Dd0eA8-1NF",
        "colab": {
          "base_uri": "https://localhost:8080/",
          "height": 490
        },
        "outputId": "2b5892bb-4cff-47f8-beea-61e4ebf221ae"
      },
      "execution_count": null,
      "outputs": [
        {
          "output_type": "stream",
          "name": "stdout",
          "text": [
            "0.4211111111111111\n"
          ]
        },
        {
          "output_type": "display_data",
          "data": {
            "text/plain": [
              "<Figure size 640x480 with 1 Axes>"
            ],
            "image/png": "[encoded data removed]"
          },
          "metadata": {}
        }
      ]
    },
    {
      "cell_type": "code",
      "source": [
        "with open('losses_varies_hz', 'wb') as fp:\n",
        "    pickle.dump(losses_varies_hz, fp)"
      ],
      "metadata": {
        "id": "1MdrTvsBOu77"
      },
      "execution_count": null,
      "outputs": []
    },
    {
      "cell_type": "code",
      "source": [
        "import pickle\n",
        "with open ('losses_varies_hz', 'rb') as fp:\n",
        "    losses_varies_hz = pickle.load(fp)"
      ],
      "metadata": {
        "id": "daDJGNooP0MO"
      },
      "execution_count": null,
      "outputs": []
    },
    {
      "cell_type": "markdown",
      "metadata": {
        "id": "Msm0HtfYut5P"
      },
      "source": [
        "#### epoch tuning"
      ]
    },
    {
      "cell_type": "markdown",
      "metadata": {
        "id": "5BJ3FsTMs1HN"
      },
      "source": [
        "adjust the model with epoch = {1000, 50000, 100000}"
      ]
    },
    {
      "cell_type": "markdown",
      "source": [
        "##***Report for changes in Epoch number:***\n",
        "As the epoch number equals to 1000, the model almost never be updated, therefore, the loss of the model remains unchanges and the model is underfitted because it did not gain enough information from the dataset to make any sensible prediction.\n",
        "\n",
        "As the number of epoch increasing, the accuracy of the model increases, this is because a larger number in epoch means more updates in the weight of the model, so the model gains more features from the dataset. In this case, 100000 is the best testing value for epoch. But, if the number of epoch keep increasing, the model will be update more time than optimal and the model is going to be overfitted."
      ],
      "metadata": {
        "id": "Q_CPGUqZH_28"
      }
    },
    {
      "cell_type": "code",
      "execution_count": null,
      "metadata": {
        "id": "LDjfGGoPvJh-",
        "colab": {
          "base_uri": "https://localhost:8080/"
        },
        "outputId": "170c5045-a425-48e3-ac16-a48534549a0f"
      },
      "outputs": [
        {
          "output_type": "stream",
          "name": "stdout",
          "text": [
            "tensor([[-2.2503, -2.1646, -2.1505, -2.1340, -2.1875, -2.2604, -2.1889, -2.2316,\n",
            "         -2.2150]])\n",
            "Epoch 0 (0%)  Loss: 2.1646, Word: syadyan, Prediction: 3 | incorrect (True:1)\n",
            "tensor([[-2.2013, -2.1845, -2.2004, -2.2619, -2.2109, -2.2022, -2.3278, -2.1420,\n",
            "         -2.0651]])\n",
            "Epoch 0 (0%)  Loss: 2.0651, Word: allerton, Prediction: 8 | correct\n",
            "tensor([[-2.1800, -2.2817, -2.2060, -2.1735, -2.1986, -2.2442, -2.2254, -2.0770,\n",
            "         -2.2016]])\n",
            "Epoch 5000 (10%)  Loss: 2.2254, Word: deh mirza'i, Prediction: 7 | incorrect (True:6)\n",
            "tensor([[-1.9256, -2.3718, -2.2662, -2.2645, -2.2181, -2.3639, -2.1105, -2.1511,\n",
            "         -2.1812]])\n",
            "Epoch 10000 (20%)  Loss: 2.1511, Word: shutrak, Prediction: 0 | incorrect (True:7)\n",
            "tensor([[-2.5578, -2.1008, -2.2891, -1.9808, -2.2809, -2.1221, -2.2918, -2.0394,\n",
            "         -2.2285]])\n",
            "Epoch 15000 (30%)  Loss: 2.2285, Word: siah gusheh-ye nurza'i, Prediction: 3 | incorrect (True:8)\n",
            "tensor([[-1.9123, -3.8370, -2.1405, -2.2101, -1.9761, -3.1265, -2.1031, -2.1357,\n",
            "         -1.7108]])\n",
            "Epoch 20000 (40%)  Loss: 2.1405, Word: amado grande, Prediction: 8 | incorrect (True:2)\n",
            "tensor([[-1.8592, -3.6659, -4.0456, -2.1203, -4.7398, -3.1394, -2.3792, -1.0825,\n",
            "         -1.6209]])\n",
            "Epoch 25000 (50%)  Loss: 1.8592, Word: oum jhafa, Prediction: 7 | incorrect (True:0)\n",
            "tensor([[-4.0263, -3.2273, -1.8183, -2.1582, -0.9652, -1.7742, -2.9698, -4.1226,\n",
            "         -3.0663]])\n",
            "Epoch 30000 (60%)  Loss: 0.9652, Word: saume-longe, Prediction: 4 | correct\n",
            "tensor([[-6.4821, -0.9675, -7.1465, -3.0771, -6.8833, -0.6107, -4.5037, -4.1982,\n",
            "         -6.5020]])\n",
            "Epoch 35000 (70%)  Loss: 0.9675, Word: lingxiaruanjia, Prediction: 5 | incorrect (True:1)\n",
            "tensor([[-1.9723, -6.6948, -0.8347, -3.4591, -2.5785, -4.7667, -1.3365, -3.8444,\n",
            "         -3.6641]])\n",
            "Epoch 40000 (80%)  Loss: 1.3365, Word: ab bordeh, Prediction: 2 | incorrect (True:6)\n",
            "tensor([[-1.4127, -6.8616, -2.9342, -2.7796, -3.6913, -3.9707, -1.2724, -1.4988,\n",
            "         -2.3766]])\n",
            "Epoch 45000 (90%)  Loss: 2.3766, Word: kuh-e zard bid, Prediction: 6 | incorrect (True:8)\n",
            "tensor([[-2.0836, -2.2841, -2.3177, -2.0445, -2.2303, -2.1557, -2.2533, -2.1828,\n",
            "         -2.2574]])\n",
            "Epoch 0 (0%)  Loss: 2.2841, Word: wangchingchen, Prediction: 3 | incorrect (True:1)\n",
            "tensor([[-2.2096, -2.2145, -2.1484, -2.1501, -2.2569, -2.1567, -2.1533, -2.1728,\n",
            "         -2.3272]])\n",
            "Epoch 5000 (5%)  Loss: 2.2145, Word: xijicun, Prediction: 2 | incorrect (True:1)\n",
            "tensor([[-2.3100, -2.2257, -2.1463, -2.1748, -2.2619, -2.1698, -2.1860, -2.1154,\n",
            "         -2.1991]])\n",
            "Epoch 10000 (10%)  Loss: 2.1860, Word: viranyosdulo, Prediction: 7 | incorrect (True:6)\n",
            "tensor([[-2.4158, -1.4881, -2.8801, -2.2814, -2.9305, -1.6796, -2.4520, -2.2185,\n",
            "         -2.3868]])\n",
            "Epoch 15000 (15%)  Loss: 2.4158, Word: hasangul, Prediction: 1 | incorrect (True:0)\n",
            "tensor([[-4.4648, -0.7670, -3.3154, -2.8180, -3.2682, -1.1462, -3.8037, -3.8180,\n",
            "         -3.5802]])\n",
            "Epoch 20000 (20%)  Loss: 0.7670, Word: ruxiying, Prediction: 1 | correct\n",
            "tensor([[-1.6808, -3.3481, -2.6004, -2.3889, -3.0863, -2.6943, -2.0429, -1.9518,\n",
            "         -1.4796]])\n",
            "Epoch 25000 (25%)  Loss: 1.4796, Word: wasbank, Prediction: 8 | correct\n",
            "tensor([[-1.5070, -4.3991, -1.6253, -2.5506, -2.1706, -3.7958, -1.9102, -2.3862,\n",
            "         -2.1658]])\n",
            "Epoch 30000 (30%)  Loss: 1.9102, Word: karayem, Prediction: 0 | incorrect (True:6)\n",
            "tensor([[-2.2689, -2.3269, -1.8834, -2.1134, -2.5257, -2.1902, -1.8542, -2.4340,\n",
            "         -2.4088]])\n",
            "Epoch 35000 (35%)  Loss: 2.1902, Word: vastra hindalebyn, Prediction: 6 | incorrect (True:5)\n",
            "tensor([[-2.1085, -3.1784, -3.5574, -2.1753, -3.8590, -2.1960, -1.8076, -1.0623,\n",
            "         -2.9413]])\n",
            "Epoch 40000 (40%)  Loss: 1.0623, Word: shabrani, Prediction: 7 | correct\n",
            "tensor([[-1.8547, -2.6097, -2.8762, -2.4740, -2.3274, -2.0543, -1.8759, -1.9078,\n",
            "         -2.2831]])\n",
            "Epoch 45000 (45%)  Loss: 1.9078, Word: atial, Prediction: 0 | incorrect (True:7)\n",
            "tensor([[-2.0823, -6.9745, -1.8880, -2.7167, -3.7142, -4.6299, -2.6330, -2.8605,\n",
            "         -0.7058]])\n",
            "Epoch 50000 (50%)  Loss: 0.7058, Word: sar bon-e reza, Prediction: 8 | correct\n",
            "tensor([[-2.6951, -1.1294, -2.3877, -2.3145, -3.3953, -2.2698, -2.6629, -2.3205,\n",
            "         -2.1737]])\n",
            "Epoch 55000 (55%)  Loss: 2.6951, Word: syahco, Prediction: 1 | incorrect (True:0)\n",
            "tensor([[-3.2443, -5.4383, -2.4554, -3.0961, -2.9638, -4.8302, -3.4783, -4.3133,\n",
            "         -0.3261]])\n",
            "Epoch 60000 (60%)  Loss: 0.3261, Word: ngurreza e madhe, Prediction: 8 | correct\n",
            "tensor([[-2.1708, -3.3082, -5.0071, -0.7343, -5.2643, -3.2090, -1.9876, -1.9518,\n",
            "         -3.2648]])\n",
            "Epoch 65000 (65%)  Loss: 1.9518, Word: bhalotki, Prediction: 3 | incorrect (True:7)\n",
            "tensor([[-2.1284, -5.0655, -0.8074, -3.1360, -2.0865, -3.0642, -2.0000, -2.6766,\n",
            "         -4.5818]])\n",
            "Epoch 70000 (70%)  Loss: 2.0865, Word: beaumont-les randan, Prediction: 2 | incorrect (True:4)\n",
            "tensor([[-3.7386, -8.7333, -0.5502, -2.3236, -1.5889, -3.6722, -3.0780, -5.1192,\n",
            "         -3.9276]])\n",
            "Epoch 75000 (75%)  Loss: 3.9276, Word: berkleys, Prediction: 2 | incorrect (True:8)\n",
            "tensor([[-1.5579, -6.5754, -7.3033, -6.9369, -9.6126, -6.0365, -2.9354, -0.3180,\n",
            "         -5.7335]])\n",
            "Epoch 80000 (80%)  Loss: 1.5579, Word: aqa muhammad khan, Prediction: 7 | incorrect (True:0)\n",
            "tensor([[-3.3077, -3.1483, -1.7636, -1.9067, -1.1701, -2.1636, -3.0298, -3.3181,\n",
            "         -2.4003]])\n",
            "Epoch 85000 (85%)  Loss: 1.9067, Word: kungsbole, Prediction: 4 | incorrect (True:3)\n",
            "tensor([[-1.5814, -3.8589, -1.7511, -2.1510, -2.8104, -3.0548, -1.3620, -3.2172,\n",
            "         -2.5291]])\n",
            "Epoch 90000 (90%)  Loss: 1.3620, Word: madiyeh, Prediction: 6 | correct\n",
            "tensor([[-1.7105, -1.9983, -3.9634, -1.9825, -6.1489, -2.3348, -2.8114, -1.0972,\n",
            "         -3.3804]])\n",
            "Epoch 95000 (95%)  Loss: 1.7105, Word: khokushta, Prediction: 7 | incorrect (True:0)\n"
          ]
        }
      ],
      "source": [
        "losses_varies_ep = []\n",
        "epoch = [1000, 50000, 100000]\n",
        "for ep in epoch:\n",
        "  city_all_losses, city_val_losses = run_multi(train_data = city_train_data,\n",
        "                              val_data = city_val_data,\n",
        "                              hidden_size = 100,\n",
        "                              n_epochs = ep,\n",
        "                              learning_rate = 0.002,\n",
        "                              loss_func = nn.NLLLoss(),\n",
        "                              print_every = 5000,\n",
        "                              plot_every = 250,\n",
        "                              model_name = \"./city_RNN\" + \"_ep_\" + str(ep)\n",
        "                            )\n",
        "  losses_varies_ep.append((ep, city_all_losses, city_val_losses))"
      ]
    },
    {
      "cell_type": "code",
      "source": [
        "with open('losses_varies_ep', 'wb') as fp:\n",
        "    pickle.dump(losses_varies_ep, fp)"
      ],
      "metadata": {
        "id": "aAlMYis7Qq4C"
      },
      "execution_count": null,
      "outputs": []
    },
    {
      "cell_type": "code",
      "source": [
        "with open ('losses_varies_hz', 'rb') as fp:\n",
        "    losses_varies_hz = pickle.load(fp)"
      ],
      "metadata": {
        "id": "i2FsKXPdRhMG"
      },
      "execution_count": null,
      "outputs": []
    },
    {
      "cell_type": "code",
      "source": [
        "# Model with epoch 1000\n",
        "test_model_ep1_multi = RNN_multi(input_size=len(all_letters), hidden_size=100, output_size=len(languages)).to(device)\n",
        "test_model_ep1_multi.load_state_dict(torch.load(\"./city_RNN_ep_1000\"))"
      ],
      "metadata": {
        "colab": {
          "base_uri": "https://localhost:8080/"
        },
        "id": "eHbDxhQ1Q9P-",
        "outputId": "e1a2d516-f239-41fd-d113-dd0330978789"
      },
      "execution_count": null,
      "outputs": [
        {
          "output_type": "execute_result",
          "data": {
            "text/plain": [
              "<All keys matched successfully>"
            ]
          },
          "metadata": {},
          "execution_count": 72
        }
      ]
    },
    {
      "cell_type": "code",
      "source": [
        "test_model_ep1_multi.eval()\n",
        "# Compute Validation accuracy.\n",
        "val_acc_ep1 = calculateAccuracy_multi(test_model_ep1_multi, city_val_data[0], city_val_data[1])\n",
        "print(val_acc_ep1)\n",
        "# Draw training and validation loss plot\n",
        "x = np.arange(0, 1000, 250)\n",
        "plt.ylim(0, 3)\n",
        "plt.plot(x, losses_varies_ep[0][1], color='orange')\n",
        "plt.plot(x, losses_varies_ep[0][2])\n",
        "plt.title('City Training Losses & City Validation Losses with Epoch number 1000')\n",
        "plt.xlabel('Epoch')\n",
        "plt.ylabel('Loss Rate')\n",
        "plt.show()"
      ],
      "metadata": {
        "colab": {
          "base_uri": "https://localhost:8080/",
          "height": 490
        },
        "id": "lXrrdSroRnYr",
        "outputId": "0b151689-bb74-432b-b100-3357c1cfa494"
      },
      "execution_count": null,
      "outputs": [
        {
          "output_type": "stream",
          "name": "stdout",
          "text": [
            "0.10444444444444445\n"
          ]
        },
        {
          "output_type": "display_data",
          "data": {
            "text/plain": [
              "<Figure size 640x480 with 1 Axes>"
            ],
            "image/png": "[encoded data removed]"
          },
          "metadata": {}
        }
      ]
    },
    {
      "cell_type": "code",
      "source": [
        "# Model with epoch 50000\n",
        "test_model_ep2_multi = RNN_multi(input_size=len(all_letters), hidden_size=100, output_size=len(languages)).to(device)\n",
        "test_model_ep2_multi.load_state_dict(torch.load(\"./city_RNN_ep_50000\"))"
      ],
      "metadata": {
        "colab": {
          "base_uri": "https://localhost:8080/"
        },
        "id": "uZRiPoHHRPeR",
        "outputId": "cf92cf31-3da8-494d-91a4-3395567e8b27"
      },
      "execution_count": null,
      "outputs": [
        {
          "output_type": "execute_result",
          "data": {
            "text/plain": [
              "<All keys matched successfully>"
            ]
          },
          "metadata": {},
          "execution_count": 78
        }
      ]
    },
    {
      "cell_type": "code",
      "source": [
        "test_model_ep2_multi.eval()\n",
        "# Compute Validation accuracy.\n",
        "val_acc_ep2 = calculateAccuracy_multi(test_model_ep2_multi, city_val_data[0], city_val_data[1])\n",
        "print(val_acc_ep2)\n",
        "# Draw training and validation loss plot\n",
        "x = np.arange(0, 50000, 250)\n",
        "plt.ylim(0, 3)\n",
        "plt.plot(x, losses_varies_ep[1][1], color='orange')\n",
        "plt.plot(x, losses_varies_ep[1][2])\n",
        "plt.title('City Training Losses & City Validation Losses with Epoch number 50000')\n",
        "plt.xlabel('Epoch')\n",
        "plt.ylabel('Loss Rate')\n",
        "plt.show()"
      ],
      "metadata": {
        "colab": {
          "base_uri": "https://localhost:8080/",
          "height": 490
        },
        "id": "Gjv6A_9NR60e",
        "outputId": "46355e00-ca9d-41c5-d6aa-311c3be9654b"
      },
      "execution_count": null,
      "outputs": [
        {
          "output_type": "stream",
          "name": "stdout",
          "text": [
            "0.4211111111111111\n"
          ]
        },
        {
          "output_type": "display_data",
          "data": {
            "text/plain": [
              "<Figure size 640x480 with 1 Axes>"
            ],
            "image/png": "[encoded data removed]"
          },
          "metadata": {}
        }
      ]
    },
    {
      "cell_type": "code",
      "source": [
        "# Model with epoch 100000\n",
        "test_model_ep3_multi = RNN_multi(input_size=len(all_letters), hidden_size=100, output_size=len(languages)).to(device)\n",
        "test_model_ep3_multi.load_state_dict(torch.load(\"./city_RNN_ep_100000\"))"
      ],
      "metadata": {
        "colab": {
          "base_uri": "https://localhost:8080/"
        },
        "id": "QNwfttRcRWb0",
        "outputId": "8f20237c-4152-4f8c-a551-fd6999fcc2d6"
      },
      "execution_count": null,
      "outputs": [
        {
          "output_type": "execute_result",
          "data": {
            "text/plain": [
              "<All keys matched successfully>"
            ]
          },
          "metadata": {},
          "execution_count": 80
        }
      ]
    },
    {
      "cell_type": "code",
      "source": [
        "test_model_ep3_multi.eval()\n",
        "# Compute Validation accuracy.\n",
        "val_acc_ep3 = calculateAccuracy_multi(test_model_ep3_multi, city_val_data[0], city_val_data[1])\n",
        "print(val_acc_ep3)\n",
        "# Draw training and validation loss plot\n",
        "x = np.arange(0, 100000, 250)\n",
        "plt.ylim(0, 3)\n",
        "plt.plot(x, losses_varies_ep[2][1], color='orange')\n",
        "plt.plot(x, losses_varies_ep[2][2])\n",
        "plt.title('City Training Losses & City Validation Losses with Epoch number 100000')\n",
        "plt.xlabel('Epoch')\n",
        "plt.ylabel('Loss Rate')\n",
        "plt.show()"
      ],
      "metadata": {
        "colab": {
          "base_uri": "https://localhost:8080/",
          "height": 490
        },
        "id": "y3cSJaB0SBNv",
        "outputId": "01deb27f-5cc8-40ae-bc13-1df9286b4fd4"
      },
      "execution_count": null,
      "outputs": [
        {
          "output_type": "stream",
          "name": "stdout",
          "text": [
            "0.47444444444444445\n"
          ]
        },
        {
          "output_type": "display_data",
          "data": {
            "text/plain": [
              "<Figure size 640x480 with 1 Axes>"
            ],
            "image/png": "[encoded data removed]"
          },
          "metadata": {}
        }
      ]
    }
  ],
  "metadata": {
    "accelerator": "GPU",
    "colab": {
      "provenance": []
    },
    "kernelspec": {
      "display_name": "Python 3",
      "name": "python3"
    },
    "language_info": {
      "name": "python"
    }
  },
  "nbformat": 4,
  "nbformat_minor": 0
}